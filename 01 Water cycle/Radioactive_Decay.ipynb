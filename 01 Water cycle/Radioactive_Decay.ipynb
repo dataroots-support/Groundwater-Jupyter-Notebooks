{
 "cells": [
  {
   "cell_type": "markdown",
   "metadata": {
    "slideshow": {
     "slide_type": "slide"
    }
   },
   "source": [
    "# Mass Budget\n",
    "\n",
    "## Explanation\n",
    "The mass budget is similar to the volume budget but based on mass.\n",
    "\n",
    "$$\\Delta M = J_{in}\\cdot \\Delta t - J_{out} \\cdot \\Delta t$$ \n",
    "\n",
    "with <br>\n",
    "$\\Delta t$ = time interval [T]<br> \n",
    "\t$\\Delta M$ = change of mass in the system [M]<br>\n",
    "\t$J_{in}$ = rate of mass flow into the system [M/T]<br>\n",
    "\t$J_{out}$ = rate of mass flow out of the system [M/T]\n",
    "    \n",
    "+ Inflow and outflow may each consist of several individual components.\n",
    "+ $\\Delta M$ = 0 (no change in mass) is tantamount to steady-state or stationary <br>(= time-independent) conditions.\n",
    "+ For steady-state conditions we have: $J_{in}$= $J_{out}$\n",
    "\n",
    "## Example: Radioactive Decay ###\n",
    "This illustrative example is not completely related to basic hydrogeology (although coupled decay processes are of some importance for contaminant transport in aquifers).\n",
    "\n",
    "+ decay chain: A $\\rightarrow$ B $\\rightarrow$ C       <br>                                                                   \n",
    "+ 30% of $\\text{A}$ and 20% of $\\text{B}$  decay each year.<br>\n",
    "\n",
    "+ decay rate of $\\text{A}$   = production rate of $\\text{B}$   = $0.3 \\text{ a$^{-1}$} \\cdot M_A$<br>\n",
    "\n",
    "+ decay rate of $\\text{B}$ = production rate of $\\text{C}$ = $0.2 \\text{ a$^{-1}$} \\cdot M_B$<br>\n",
    "\n",
    "\n",
    "+ mass budgets for $\\text{A}$, $\\text{B}$ and $\\text{C}$:<br>                                 \n",
    "\n",
    "\\begin{array}{}\n",
    "\\Delta M_A &= 0.3 \\text{ a$^{-1}$} \\cdot M_A  \\cdot \\Delta t\\\\\n",
    "\\Delta M_B & = 0.3 \\text{a$^{-1}$} \\cdot M_A  \\cdot \\Delta t  \t- 0.2 \\text{ a$^{-1}$} \\cdot M_B  \\cdot \\Delta t \\\\\n",
    "\\Delta M_C &= 0.2 \\text{a$^{-1}$} \\cdot M_B  \\cdot \\Delta t\n",
    "\\end{array}\n",
    "\n",
    "  \t\n",
    "+ Similar equations hold for quantitative descriptions of some chemical reactions which correspond to the type A $\\rightarrow$ B $\\rightarrow$ C\n"
   ]
  },
  {
   "cell_type": "code",
   "execution_count": 1,
   "metadata": {},
   "outputs": [
    {
     "data": {
      "application/vnd.jupyter.widget-view+json": {
       "model_id": "dd0c39e8644c4c90bd431bb4897a4751",
       "version_major": 2,
       "version_minor": 0
      },
      "text/plain": [
       "interactive(children=(BoundedFloatText(value=0.0, description='A_0:', max=1000.0, step=10.0), BoundedFloatText…"
      ]
     },
     "metadata": {},
     "output_type": "display_data"
    },
    {
     "data": {
      "text/plain": [
       "<function __main__.decay(A_0, B_0, C_0, R_A, R_B)>"
      ]
     },
     "execution_count": 1,
     "metadata": {},
     "output_type": "execute_result"
    }
   ],
   "source": [
    "import numpy as np\n",
    "import matplotlib.pyplot as plt\n",
    "import pandas as pd \n",
    "from scipy import stats\n",
    "from ipywidgets import *\n",
    "%matplotlib inline\n",
    "\n",
    "def decay (A_0, B_0, C_0, R_A, R_B):\n",
    "    #decay code\n",
    "    # Input value - you can modify here\n",
    "\n",
    "    n_simulation = 101 # this number denotes how many discrete values (times) are computed - similar to the number of cells / rows in an Excel-sheet\n",
    "\n",
    "    #A_0 = 1000.0      # g, mass of A at t=0\n",
    "    #B_0 = 100.0       # g, mass of B at t=0\n",
    "    #C_0 = 0.0         # g, mass of C at t=0\n",
    "\n",
    "    #R_A = 0.0005      # g/a, decay rate for A\n",
    "    #R_B = 0.2         # g/a, decay rate for B\n",
    "\n",
    "\n",
    "    time  = np.arange(n_simulation) # simulation time = number of simulation values at 1 (time unit) interval, in the example, the time unit is years\n",
    "\n",
    "    #initialization (fill all cells with zero)\n",
    "    A = np.zeros(n_simulation)\n",
    "    B = np.zeros(n_simulation)\n",
    "    C = np.zeros(n_simulation)\n",
    "\n",
    "    #The first value in the computation is the given initial value (please note that Python start counting by 0 i.e. A[0] is the first cell, A[1] is the second cell etc.)\n",
    "    A[0] = A_0 \n",
    "    B[0] = B_0\n",
    "    C[0] = C_0\n",
    "\n",
    "    # computation by a counting loop\n",
    "    for i in range(0,n_simulation-1):\n",
    "        A[i+1] = A[i]-R_A*A[i]\n",
    "        B[i+1] = B[i]+R_A*A[i]-R_B*B[i] \n",
    "        C[i+1] = C[i]+R_B*B[i]\n",
    "        summ = A[i]+B[i]+C[i]  \n",
    "\n",
    "    # Output of results\n",
    "    d = {\"Mass_A\": A, \"Mass_B\": B, \"Mass_C\": C, \"Total Mass\": summ}\n",
    "    df = pd.DataFrame(d) # Generating result table\n",
    "    label = [\"Mass A (g)\", \"Mass B (g)\", \"Mass C (g)\"]\n",
    "    fig = plt.figure(figsize=(9,6))\n",
    "    plt.plot(time, A, time, B, time, C, linewidth=3);  # plotting the results\n",
    "    plt.xlabel(\"Time [Time Unit]\"); plt.ylabel(\"Mass [g]\") # placing axis labels\n",
    "    plt.legend(label, loc=0);plt.grid(); plt.xlim([0,n_simulation-1]); plt.ylim(bottom=0) # legends, grids, x,y limits\n",
    "    plt.show() # display plot\n",
    "    df.round(2) #display result table with 2 decimal places \n",
    "\n",
    "interact(decay,\n",
    "        A_0=widgets.BoundedFloatText(value=0, min=0, max=1000, step=10, description='A_0:', disabled=False),\n",
    "        B_0=widgets.BoundedFloatText(value=0, min=0, max=1000, step=10, description='B_0:', disabled=False),\n",
    "        C_0=widgets.BoundedFloatText(value=0, min=0, max=1000, step=10, description='C_0:', disabled=False),\n",
    "        R_A=widgets.FloatSlider(value=0.000,min=0, max=1, step=0.001,description='R_A:',readout=True,readout_format='.3f'),\n",
    "        R_B=widgets.FloatSlider(value=0.000,min=0, max=1, step=0.001,description='R_B:',readout=True,readout_format='.3f'))"
   ]
  },
  {
   "cell_type": "code",
   "execution_count": null,
   "metadata": {},
   "outputs": [],
   "source": []
  }
 ],
 "metadata": {
  "celltoolbar": "Slideshow",
  "hide_input": false,
  "kernelspec": {
   "display_name": "Python 3 (ipykernel)",
   "language": "python",
   "name": "python3"
  },
  "language_info": {
   "codemirror_mode": {
    "name": "ipython",
    "version": 3
   },
   "file_extension": ".py",
   "mimetype": "text/x-python",
   "name": "python",
   "nbconvert_exporter": "python",
   "pygments_lexer": "ipython3",
   "version": "3.11.7"
  },
  "latex_envs": {
   "LaTeX_envs_menu_present": true,
   "autoclose": false,
   "autocomplete": false,
   "bibliofile": "biblio.bib",
   "cite_by": "apalike",
   "current_citInitial": 1,
   "eqLabelWithNumbers": false,
   "eqNumInitial": 1,
   "hotkeys": {
    "equation": "Ctrl-E",
    "itemize": "Ctrl-I"
   },
   "labels_anchors": false,
   "latex_user_defs": false,
   "report_style_numbering": false,
   "user_envs_cfg": false
  },
  "toc": {
   "base_numbering": 1,
   "nav_menu": {},
   "number_sections": true,
   "sideBar": true,
   "skip_h1_title": false,
   "title_cell": "Table of Contents",
   "title_sidebar": "Contents",
   "toc_cell": false,
   "toc_position": {},
   "toc_section_display": true,
   "toc_window_display": false
  },
  "varInspector": {
   "cols": {
    "lenName": 16,
    "lenType": 16,
    "lenVar": 40
   },
   "kernels_config": {
    "python": {
     "delete_cmd_postfix": "",
     "delete_cmd_prefix": "del ",
     "library": "var_list.py",
     "varRefreshCmd": "print(var_dic_list())"
    },
    "r": {
     "delete_cmd_postfix": ") ",
     "delete_cmd_prefix": "rm(",
     "library": "var_list.r",
     "varRefreshCmd": "cat(var_dic_list()) "
    }
   },
   "types_to_exclude": [
    "module",
    "function",
    "builtin_function_or_method",
    "instance",
    "_Feature"
   ],
   "window_display": false
  }
 },
 "nbformat": 4,
 "nbformat_minor": 4
}
