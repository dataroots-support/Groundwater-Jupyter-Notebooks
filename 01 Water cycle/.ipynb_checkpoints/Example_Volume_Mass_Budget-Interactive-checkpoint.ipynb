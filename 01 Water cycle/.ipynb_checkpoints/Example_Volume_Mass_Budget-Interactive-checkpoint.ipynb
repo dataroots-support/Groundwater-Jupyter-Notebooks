{
 "cells": [
  {
   "cell_type": "markdown",
   "metadata": {
    "slideshow": {
     "slide_type": "slide"
    }
   },
   "source": [
    "# Hydrogeology example: Volume and Mass budgets\n",
    "\n",
    "## The Global Water Cycle and the hydrological balance\n",
    "The water budget computation account for different measures like precipitation, evapotranspiration and runoff. The following figure shows the global water cycle that considers the main processes.\n",
    "\n",
    "<img src=\"FIGS/T03_01.png\" alt=\"Hydrogeology Definition\"  width=\"60%\" height=\"100%\" > \n",
    "\n",
    " **57700 km³ of water are actively participating in the cycle each year.**"
   ]
  },
  {
   "cell_type": "markdown",
   "metadata": {
    "slideshow": {
     "slide_type": "slide"
    }
   },
   "source": [
    "## The Hydrological Balance ##\n",
    "\n",
    "The hydrological balance provides a relationship between various flow rates for a certain area. It is based on the conservation of water volume.\n",
    "+ expressed in words:  inflow equals outflow plus change in storage\n",
    "+ expressed by a formula:\n",
    "\n",
    "$$\n",
    "P = ET + R + \\Delta S\n",
    "$$\n",
    "\n",
    "where, $P$ = Precipitation, $ET$ = Evapotranspiration, $R$= Runoff and $\\Delta S$ = Change in Storage\n",
    "\n",
    "+ change in storage $\\Delta S > 0$ :               Water volume is increasing with time in the investigation area.\n",
    "+ change in storage $\\Delta S < 0$:                 Water volume is decreasing with time in the investigation area.\n",
    "+ change in storage $\\Delta S = 0$:               Water volume does not change with time in the investigation area (steady-state or stationary situation, i.e. inflow equals outflow)."
   ]
  },
  {
   "cell_type": "markdown",
   "metadata": {
    "slideshow": {
     "slide_type": "slide"
    }
   },
   "source": [
    "## Volume and Mass Budgets ## \n",
    "\n",
    "**budget** = quantitative comparison of ''growth'' (or ''production'') and ''loss'' in a system\n",
    "\n",
    "### Volume Budget ###\n",
    "\n",
    "$$\n",
    "\\Delta V = Q_{in} \\cdot \\Delta t - Q{out} \\cdot \\Delta t \n",
    "$$\n",
    "<br>\n",
    "with\t$\\Delta t$ = time interval [T] <br>\n",
    "\t$\\Delta V$ = change of volume in the system [L$^3$]<br>\n",
    "\t$Q_{in}$ = volumetric rate of flow into the system [L$^3$/T]<br>\n",
    "\t$Q_{out}$ = volumetric rate of flow out of the system [L$^3$/T]<br>\n",
    "\n",
    "+ Inflow and outflow may each consist of several individual components.\n",
    "+ $\\Delta V$ = 0 (no change in  volume) is tantamount to steady-state or stationary (= time-independent) conditions.\n",
    "+ For steady-state conditions we have: $Q_{in}$ = $Q_{out}$"
   ]
  },
  {
   "cell_type": "markdown",
   "metadata": {
    "slideshow": {
     "slide_type": "slide"
    }
   },
   "source": [
    "### Example: Water Budget for a Catchment ###\n",
    "\n",
    "Each catchment has his own characteristics and different measures can be considered for the water budget. For example, a catchment with a swamp area could be characterized by evapotranspiration from groundwater; an area without surface water streams will lack surface runoff.\n",
    "\n",
    "The following example considers a common and general catchment.\n",
    "\n",
    "**To be considered:</span>**\n",
    "+ precipitation\n",
    "+ evapotranspiration\n",
    "+ surface runoff\n",
    "+ subsurface runoff\n",
    "\n",
    "<img src=\"FIGS/T03_02.png\" alt=\"Hydrogeology Definition\"  width=\"35%\" height=\"100%\" >\n",
    "\n",
    "\n",
    "   \n",
    "\n",
    "\n"
   ]
  },
  {
   "cell_type": "markdown",
   "metadata": {
    "slideshow": {
     "slide_type": "slide"
    }
   },
   "source": [
    "### Task: Estimation of Subsurface Runoff ###\n",
    "For a catchment the following data are available\n",
    "+ Area $A$                      = 4500 km^2\n",
    "+ Precipitation $P$             = 550 mm/a\n",
    "+ Evapotranspiration $ET$       = 200 mm/a\n",
    "+ Surface Runoff $Q_{out,surf}$ = 40 m^3/s\n",
    "\n",
    "It is assumed that those numbers are representative for a steady-state. Based on the given data, the rate of outflow $Q_{out,sub}$ due to subsurface runoff should be computed.\n",
    "\n",
    "_Most numbers used in the example do not refer to the catchment shown before!_\n",
    "\n",
    "The following four-steps are necessary for the calculation:\n",
    "\n",
    "+ Step 1: determine rate of inflow in m³/a \n",
    "+ step 2: determine rate of outflow due to evapotranspiration ($ET$ x $A$) in m³/a    \n",
    "+ Step 3: express rate of outflow due to surface runoff in m³/a\n",
    "+ step 4: determine rate of outflow due to subsurface runoff "
   ]
  },
  {
   "cell_type": "code",
   "execution_count": null,
   "metadata": {
    "hide_input": true
   },
   "outputs": [],
   "source": [
    "import numpy as np\n",
    "import matplotlib.pyplot as plt\n",
    "import pandas as pd \n",
    "from scipy import stats\n",
    "from ipywidgets import *\n",
    "%matplotlib inline"
   ]
  },
  {
   "cell_type": "code",
   "execution_count": null,
   "metadata": {},
   "outputs": [],
   "source": [
    "#Following the Python code, the #-sign is used for comments\n",
    "\n",
    "A = 4500         # km², catchment area\n",
    "P = 550          # mm/a, precipitation\n",
    "ET = 200         # mm/a, evapotranspiration\n",
    "Qout_surf = 40   # m³/s, surface runoff\n",
    "Delta_V = 0      # m³, change in volume = 0 Steady-state conditions\n",
    "\n",
    "#Volume budget in this example: P·A = ET·A + Qout,surf + Qout,sub\n",
    "\n",
    "#Step 1 - Inflow\n",
    "Qin = P*A*10**3  #m³/a, 10^3 for unit conversion\n",
    "\n",
    "# if you want to check the computation, simply write the variable\n",
    "Qin\n",
    "\n",
    "# later you can combine the cells to run the notebook faster and more convinient"
   ]
  },
  {
   "cell_type": "code",
   "execution_count": null,
   "metadata": {
    "slideshow": {
     "slide_type": "subslide"
    }
   },
   "outputs": [],
   "source": [
    "#step 2 - Outflow through evapotranspiration\n",
    "\n",
    "ET_A = ET*A*10**3 #m³/a, 10^3 for unit conversion\n",
    "\n",
    "#Step 3 - Outflow through surface runoff\n",
    "\n",
    "Qout_surf = Qout_surf *365*24*3600 #  m³/a"
   ]
  },
  {
   "cell_type": "code",
   "execution_count": null,
   "metadata": {},
   "outputs": [],
   "source": [
    "# step 4 - Compute subsurface runoff as the missing measure\n",
    "Qout_sub = Qin - ET_A - Qout_surf # m³/a \n",
    "\n",
    "# Print the results in a nice format\n",
    "print(\"The rate of inflow, Qin is {0:1.1E}\".format(Qin),\"m\\u00b3/a\"); print(\"The outflow rate due to EvapoTranspiration is {0:1.1E}\".format(ET_A),\"m\\u00b3/a\")\n",
    "print(\"The surface outflow rate, Qout_surf in m\\u00b3/a is {0:1.1E}\".format(Qout_surf),\"m\\u00b3/a\");print(\"The subsurface outflow rate, Qout_surf in m\\u00b3/a is {0:1.1E}\".format(Qout_sub),\"m\\u00b3/a\")"
   ]
  },
  {
   "cell_type": "markdown",
   "metadata": {
    "slideshow": {
     "slide_type": "slide"
    }
   },
   "source": [
    "### Mass Budget ###\n",
    "\n",
    "The mass budget is similar to the volume budget but based on mass.\n",
    "\n",
    "$$\\Delta M = J_{in}\\cdot \\Delta t - J_{out} \\cdot \\Delta t$$ \n",
    "\n",
    "with <br>\n",
    "$\\Delta t$ = time interval [T]<br> \n",
    "\t$\\Delta M$ = change of mass in the system [M]<br>\n",
    "\t$J_{in}$ = rate of mass flow into the system [M/T]<br>\n",
    "\t$J_{out}$ = rate of mass flow out of the system [M/T]\n",
    "    \n",
    "+ Inflow and outflow may each consist of several individual components.\n",
    "+ $\\Delta M$ = 0 (no change in mass) is tantamount to steady-state or stationary <br>(= time-independent) conditions.\n",
    "+ For steady-state conditions we have: $J_{in}$= $J_{out}$\n"
   ]
  },
  {
   "cell_type": "markdown",
   "metadata": {
    "slideshow": {
     "slide_type": "slide"
    }
   },
   "source": [
    "\n",
    "\n",
    "\n",
    "\n",
    "### Example: Radioactive Decay ###\n",
    "This illustrative example is not completely related to basic hydrogeology (although coupled decay processes are of some importance for contaminant transport in aquifers).\n",
    "\n",
    "+ decay chain: A $\\rightarrow$ B $\\rightarrow$ C       <br>                                                                   \n",
    "+ 30% of $\\text{A}$ and 20% of $\\text{B}$  decay each year.<br>\n",
    "\n",
    "+ decay rate of $\\text{A}$   = production rate of $\\text{B}$   = $0.3 \\text{ a$^{-1}$} \\cdot M_A$<br>\n",
    "\n",
    "+ decay rate of $\\text{B}$ = production rate of $\\text{C}$ = $0.2 \\text{ a$^{-1}$} \\cdot M_B$<br>\n",
    "\n",
    "\n",
    "+ mass budgets for $\\text{A}$, $\\text{B}$ and $\\text{C}$:<br>                                 \n",
    "\n",
    "\\begin{array}{}\n",
    "\\Delta M_A &= 0.3 \\text{ a$^{-1}$} \\cdot M_A  \\cdot \\Delta t\\\\\n",
    "\\Delta M_B & = 0.3 \\text{a$^{-1}$} \\cdot M_A  \\cdot \\Delta t  \t- 0.2 \\text{ a$^{-1}$} \\cdot M_B  \\cdot \\Delta t \\\\\n",
    "\\Delta M_C &= 0.2 \\text{a$^{-1}$} \\cdot M_B  \\cdot \\Delta t\n",
    "\\end{array}\n",
    "\n",
    "  \t\n",
    "+ Similar equations hold for quantitative descriptions of some chemical reactions which correspond to the type A $\\rightarrow$ B $\\rightarrow$ C\n"
   ]
  },
  {
   "cell_type": "code",
   "execution_count": null,
   "metadata": {
    "code_folding": [],
    "hide_input": false,
    "scrolled": true,
    "slideshow": {
     "slide_type": "skip"
    }
   },
   "outputs": [],
   "source": [
    "def decay (A_0, B_0, C_0, R_A, R_B):\n",
    "    #decay code\n",
    "    # Input value - you can modify here\n",
    "\n",
    "    n_simulation = 101 # this number denotes how many discrete values (times) are computed - similar to the number of cells / rows in an Excel-sheet\n",
    "\n",
    "    #A_0 = 1000.0      # g, mass of A at t=0\n",
    "    #B_0 = 100.0       # g, mass of B at t=0\n",
    "    #C_0 = 0.0         # g, mass of C at t=0\n",
    "\n",
    "    #R_A = 0.0005      # g/a, decay rate for A\n",
    "    #R_B = 0.2         # g/a, decay rate for B\n",
    "\n",
    "\n",
    "    time  = np.arange(n_simulation) # simulation time = number of simulation values at 1 (time unit) interval, in the example, the time unit is years\n",
    "\n",
    "    #initialization (fill all cells with zero)\n",
    "    A = np.zeros(n_simulation)\n",
    "    B = np.zeros(n_simulation)\n",
    "    C = np.zeros(n_simulation)\n",
    "\n",
    "    #The first value in the computation is the given initial value (please note that Python start counting by 0 i.e. A[0] is the first cell, A[1] is the second cell etc.)\n",
    "    A[0] = A_0 \n",
    "    B[0] = B_0\n",
    "    C[0] = C_0\n",
    "\n",
    "    # computation by a counting loop\n",
    "    for i in range(0,n_simulation-1):\n",
    "        A[i+1] = A[i]-R_A*A[i]\n",
    "        B[i+1] = B[i]+R_A*A[i]-R_B*B[i] \n",
    "        C[i+1] = C[i]+R_B*B[i]\n",
    "        summ = A[i]+B[i]+C[i]  \n",
    "\n",
    "    # Output of results\n",
    "    d = {\"Mass_A\": A, \"Mass_B\": B, \"Mass_C\": C, \"Total Mass\": summ}\n",
    "    df = pd.DataFrame(d) # Generating result table\n",
    "    label = [\"Mass A (g)\", \"Mass B (g)\", \"Mass C (g)\"]\n",
    "    fig = plt.figure(figsize=(9,6))\n",
    "    plt.plot(time, A, time, B, time, C, linewidth=3);  # plotting the results\n",
    "    plt.xlabel(\"Time [Time Unit]\"); plt.ylabel(\"Mass [g]\") # placing axis labels\n",
    "    plt.legend(label, loc=0);plt.grid(); plt.xlim([0,n_simulation-1]); plt.ylim(bottom=0) # legends, grids, x,y limits\n",
    "    plt.show() # display plot\n",
    "    df.round(2) #display result table with 2 decimal places "
   ]
  },
  {
   "cell_type": "code",
   "execution_count": null,
   "metadata": {},
   "outputs": [],
   "source": [
    "interact(decay,\n",
    "        A_0=widgets.BoundedFloatText(value=0, min=0, max=1000, step=10, description='A_0:', disabled=False),\n",
    "        B_0=widgets.BoundedFloatText(value=0, min=0, max=1000, step=10, description='B_0:', disabled=False),\n",
    "        C_0=widgets.BoundedFloatText(value=0, min=0, max=1000, step=10, description='C_0:', disabled=False),\n",
    "        R_A=widgets.FloatSlider(value=0.000,min=0, max=1, step=0.001,description='R_A:',readout=True,readout_format='.3f'),\n",
    "        R_B=widgets.FloatSlider(value=0.000,min=0, max=1, step=0.001,description='R_B:',readout=True,readout_format='.3f'))"
   ]
  },
  {
   "cell_type": "markdown",
   "metadata": {
    "slideshow": {
     "slide_type": "-"
    },
    "solution2": "shown",
    "solution2_first": true
   },
   "source": [
    "### Comparison of Mass and Volume Budgets ###\n",
    "\n",
    "**mass budget**:\t$\\Delta M = J_{in} \\cdot \\Delta t - J-{out} \\cdot \\Delta t$\n",
    "\n",
    "**volume budget**:\t$\\Delta V = Q_{in} \\cdot \\Delta t - Q_{out} \\cdot \\Delta t $\n",
    "\n",
    "\n",
    "+ Mass and volume budgets are equivalent if there is no change of density $\\rho$ [M/L$^3$] with time. In this case the well known relationship ΔM = $\\rho \\cdot \\Delta V$ holds and each equation given above can be directly transformed into the other one.\n",
    "\n",
    "\n",
    "+ If density changes have to be considered (e.g. for gas flow), the mass budget equation remains valid but the volume budget equation must be modified because $\\Delta M = \\rho \\cdot \\Delta V + \\Delta \\rho \\cdot V$ with $\\Delta \\rho$= change in density.\n",
    "\n",
    "\n",
    "+ Cases with changing density have proven to be more easily tractable if the mass budget equation is used.\n",
    "\n"
   ]
  },
  {
   "cell_type": "code",
   "execution_count": null,
   "metadata": {},
   "outputs": [],
   "source": []
  }
 ],
 "metadata": {
  "celltoolbar": "Slideshow",
  "hide_input": false,
  "kernelspec": {
   "display_name": "Python 3 (ipykernel)",
   "language": "python",
   "name": "python3"
  },
  "language_info": {
   "codemirror_mode": {
    "name": "ipython",
    "version": 3
   },
   "file_extension": ".py",
   "mimetype": "text/x-python",
   "name": "python",
   "nbconvert_exporter": "python",
   "pygments_lexer": "ipython3",
   "version": "3.11.7"
  },
  "latex_envs": {
   "LaTeX_envs_menu_present": true,
   "autoclose": false,
   "autocomplete": false,
   "bibliofile": "biblio.bib",
   "cite_by": "apalike",
   "current_citInitial": 1,
   "eqLabelWithNumbers": false,
   "eqNumInitial": 1,
   "hotkeys": {
    "equation": "Ctrl-E",
    "itemize": "Ctrl-I"
   },
   "labels_anchors": false,
   "latex_user_defs": false,
   "report_style_numbering": false,
   "user_envs_cfg": false
  },
  "toc": {
   "base_numbering": 1,
   "nav_menu": {},
   "number_sections": true,
   "sideBar": true,
   "skip_h1_title": false,
   "title_cell": "Table of Contents",
   "title_sidebar": "Contents",
   "toc_cell": false,
   "toc_position": {},
   "toc_section_display": true,
   "toc_window_display": false
  },
  "varInspector": {
   "cols": {
    "lenName": 16,
    "lenType": 16,
    "lenVar": 40
   },
   "kernels_config": {
    "python": {
     "delete_cmd_postfix": "",
     "delete_cmd_prefix": "del ",
     "library": "var_list.py",
     "varRefreshCmd": "print(var_dic_list())"
    },
    "r": {
     "delete_cmd_postfix": ") ",
     "delete_cmd_prefix": "rm(",
     "library": "var_list.r",
     "varRefreshCmd": "cat(var_dic_list()) "
    }
   },
   "types_to_exclude": [
    "module",
    "function",
    "builtin_function_or_method",
    "instance",
    "_Feature"
   ],
   "window_display": false
  }
 },
 "nbformat": 4,
 "nbformat_minor": 4
}
