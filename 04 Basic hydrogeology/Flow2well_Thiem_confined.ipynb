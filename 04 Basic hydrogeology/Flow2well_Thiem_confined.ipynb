{
 "cells": [
  {
   "cell_type": "markdown",
   "metadata": {},
   "source": [
    "# Steady state flow towards a well in an Confined Aquifer \n",
    "\n",
    "## Thiem Equation \n",
    "\n",
    "You can calculate the flow towards a well in a confinded Aquifer with this Equations:\n",
    "\n",
    "$$R = 3000 \\cdot s \\cdot \\sqrt{K}$$\n",
    "\n",
    "$$Q = \\frac{2 \\cdot \\pi \\cdot m \\cdot K \\cdot (H - h)}{2.3 \\cdot lg(\\frac{R}{r})}$$\n",
    "\n",
    "with:<br>\n",
    "    $R$ = radius of the influence [L], <br>\n",
    "    $s$ = drawdown [L] = H - h, <br>\n",
    "    $K$ = hydraulik conductivity [L/T], <br>\n",
    "    $Q$ = pumping rate [L^3/T], <br>\n",
    "    $m$ = Thickness of the Aquifer [L], <br>\n",
    "    $H$ = water level at rest [L], <br>\n",
    "    $h$ = water level at distance r, [L] <br>\n",
    "    $r$ = distance from the well, [L] \n",
    "    \n",
    "if you change the formula you get the following equation for the water level depending on the distance of the well:\n",
    "\n",
    "$$h = H -\\frac{Q}{2 \\cdot \\pi \\cdot K \\cdot m} \\cdot ln\\frac{R}{r}$$\n",
    "\n"
   ]
  },
  {
   "cell_type": "code",
   "execution_count": 1,
   "metadata": {},
   "outputs": [
    {
     "ename": "NameError",
     "evalue": "name 'interact' is not defined",
     "output_type": "error",
     "traceback": [
      "\u001b[1;31m---------------------------------------------------------------------------\u001b[0m",
      "\u001b[1;31mNameError\u001b[0m                                 Traceback (most recent call last)",
      "Cell \u001b[1;32mIn[1], line 53\u001b[0m\n\u001b[0;32m     49\u001b[0m     ax\u001b[38;5;241m.\u001b[39mtext((x_max\u001b[38;5;241m/\u001b[39m\u001b[38;5;241m2\u001b[39m),(m\u001b[38;5;241m/\u001b[39m\u001b[38;5;241m2\u001b[39m),\u001b[38;5;124m'\u001b[39m\u001b[38;5;124mconfined aquifer\u001b[39m\u001b[38;5;124m'\u001b[39m)\n\u001b[0;32m     51\u001b[0m     plt\u001b[38;5;241m.\u001b[39mshow()\n\u001b[1;32m---> 53\u001b[0m interact(confined,\n\u001b[0;32m     54\u001b[0m          x_max \u001b[38;5;241m=\u001b[39m widgets\u001b[38;5;241m.\u001b[39mFloatSlider   (value \u001b[38;5;241m=\u001b[39m \u001b[38;5;241m5000\u001b[39m, \u001b[38;5;28mmin\u001b[39m \u001b[38;5;241m=\u001b[39m     \u001b[38;5;241m10\u001b[39m, \u001b[38;5;28mmax\u001b[39m \u001b[38;5;241m=\u001b[39m \u001b[38;5;241m10000\u001b[39m, step \u001b[38;5;241m=\u001b[39m     \u001b[38;5;241m50\u001b[39m, description \u001b[38;5;241m=\u001b[39m \u001b[38;5;124mr\u001b[39m\u001b[38;5;124m'\u001b[39m\u001b[38;5;124m\\\u001b[39m\u001b[38;5;124m(\u001b[39m\u001b[38;5;124m\\\u001b[39m\u001b[38;5;124m x_\u001b[39m\u001b[38;5;132;01m{max}\u001b[39;00m\u001b[38;5;124m \u001b[39m\u001b[38;5;124m\\\u001b[39m\u001b[38;5;124m):\u001b[39m\u001b[38;5;124m'\u001b[39m, disabled \u001b[38;5;241m=\u001b[39m \u001b[38;5;28;01mFalse\u001b[39;00m),\n\u001b[0;32m     55\u001b[0m          H \u001b[38;5;241m=\u001b[39m     widgets\u001b[38;5;241m.\u001b[39mFloatSlider   (value \u001b[38;5;241m=\u001b[39m \u001b[38;5;241m25\u001b[39m,   \u001b[38;5;28mmin\u001b[39m \u001b[38;5;241m=\u001b[39m      \u001b[38;5;241m1\u001b[39m,     \u001b[38;5;28mmax\u001b[39m\u001b[38;5;241m=\u001b[39m\u001b[38;5;241m100\u001b[39m, step \u001b[38;5;241m=\u001b[39m    \u001b[38;5;241m0.5\u001b[39m, description \u001b[38;5;241m=\u001b[39m \u001b[38;5;124m'\u001b[39m\u001b[38;5;124mH (m)   :\u001b[39m\u001b[38;5;124m'\u001b[39m, disabled\u001b[38;5;241m=\u001b[39m\u001b[38;5;28;01mFalse\u001b[39;00m),\n\u001b[0;32m     56\u001b[0m          r_w \u001b[38;5;241m=\u001b[39m   widgets\u001b[38;5;241m.\u001b[39mFloatSlider   (value \u001b[38;5;241m=\u001b[39m \u001b[38;5;241m2\u001b[39m,    \u001b[38;5;28mmin\u001b[39m \u001b[38;5;241m=\u001b[39m \u001b[38;5;241m0.0001\u001b[39m,      \u001b[38;5;28mmax\u001b[39m\u001b[38;5;241m=\u001b[39m\u001b[38;5;241m10\u001b[39m, step \u001b[38;5;241m=\u001b[39m    \u001b[38;5;241m0.5\u001b[39m, description \u001b[38;5;241m=\u001b[39m \u001b[38;5;124mr\u001b[39m\u001b[38;5;124m'\u001b[39m\u001b[38;5;124m\\\u001b[39m\u001b[38;5;124m(\u001b[39m\u001b[38;5;124m\\\u001b[39m\u001b[38;5;124m r_w \u001b[39m\u001b[38;5;124m\\\u001b[39m\u001b[38;5;124m):\u001b[39m\u001b[38;5;124m'\u001b[39m, disabled\u001b[38;5;241m=\u001b[39m\u001b[38;5;28;01mFalse\u001b[39;00m),\n\u001b[0;32m     57\u001b[0m          K \u001b[38;5;241m=\u001b[39m     widgets\u001b[38;5;241m.\u001b[39mFloatLogSlider(value \u001b[38;5;241m=\u001b[39m \u001b[38;5;241m0.001\u001b[39m,base\u001b[38;5;241m=\u001b[39m \u001b[38;5;241m10\u001b[39m, \u001b[38;5;28mmin\u001b[39m\u001b[38;5;241m=\u001b[39m\u001b[38;5;241m-\u001b[39m\u001b[38;5;241m6\u001b[39m,  \u001b[38;5;28mmax\u001b[39m\u001b[38;5;241m=\u001b[39m\u001b[38;5;241m-\u001b[39m\u001b[38;5;241m2\u001b[39m, step \u001b[38;5;241m=\u001b[39m \u001b[38;5;241m0.0001\u001b[39m, readout_format\u001b[38;5;241m=\u001b[39m\u001b[38;5;124m'\u001b[39m\u001b[38;5;124m.6f\u001b[39m\u001b[38;5;124m'\u001b[39m, description\u001b[38;5;241m=\u001b[39m\u001b[38;5;124m'\u001b[39m\u001b[38;5;124mK (m/s):\u001b[39m\u001b[38;5;124m'\u001b[39m),\n\u001b[0;32m     58\u001b[0m          Q \u001b[38;5;241m=\u001b[39m     widgets\u001b[38;5;241m.\u001b[39mFloatSlider   (value \u001b[38;5;241m=\u001b[39m \u001b[38;5;241m0.1\u001b[39m,  \u001b[38;5;28mmin\u001b[39m \u001b[38;5;241m=\u001b[39m  \u001b[38;5;241m0.001\u001b[39m,       \u001b[38;5;28mmax\u001b[39m\u001b[38;5;241m=\u001b[39m\u001b[38;5;241m1\u001b[39m, step \u001b[38;5;241m=\u001b[39m   \u001b[38;5;241m0.01\u001b[39m, description \u001b[38;5;241m=\u001b[39m \u001b[38;5;124m'\u001b[39m\u001b[38;5;124mQ (m3/s):\u001b[39m\u001b[38;5;124m'\u001b[39m , disabled\u001b[38;5;241m=\u001b[39m\u001b[38;5;28;01mFalse\u001b[39;00m),\n\u001b[0;32m     59\u001b[0m          m \u001b[38;5;241m=\u001b[39m     widgets\u001b[38;5;241m.\u001b[39mFloatSlider   (value \u001b[38;5;241m=\u001b[39m \u001b[38;5;241m10\u001b[39m,   \u001b[38;5;28mmin\u001b[39m \u001b[38;5;241m=\u001b[39m      \u001b[38;5;241m1\u001b[39m,     \u001b[38;5;28mmax\u001b[39m\u001b[38;5;241m=\u001b[39m\u001b[38;5;241m100\u001b[39m, step \u001b[38;5;241m=\u001b[39m    \u001b[38;5;241m0.5\u001b[39m, description \u001b[38;5;241m=\u001b[39m \u001b[38;5;124m'\u001b[39m\u001b[38;5;124mm (m)   :\u001b[39m\u001b[38;5;124m'\u001b[39m , disabled\u001b[38;5;241m=\u001b[39m\u001b[38;5;28;01mFalse\u001b[39;00m))\n",
      "\u001b[1;31mNameError\u001b[0m: name 'interact' is not defined"
     ]
    }
   ],
   "source": [
    "# Importing necessary libraries\n",
    "import numpy as np\n",
    "import matplotlib.pyplot as plt\n",
    "from ipywidgets import *\n",
    "\n",
    "# Definition of the function\n",
    "def confined(x_max,r_w,K,Q,H,m):\n",
    "    \n",
    "    #\n",
    "    R_max = 3000*(H-m)*0.01**0.5\n",
    "    R_old = R_max/2\n",
    "\n",
    "#FIND R\n",
    "    while True: \n",
    "        h_w = H - (Q * np.log(R_old/r_w))/(2 * np.pi * K * m)\n",
    "        R = 3000 * (H-h_w) * K**0.5\n",
    "        if abs(R - R_old)<0.0001:\n",
    "            break\n",
    "        R_old = R\n",
    "    \n",
    "#COMPUTE h(r)\n",
    "    r = np.arange(r_w, R, 0.01)\n",
    "    rm = r*-1\n",
    "    h = H - (Q * np.log((R)/(r)))/(2 * np.pi * K* m)\n",
    "    \n",
    "#PLOT    \n",
    "    fig = plt.figure(figsize=(9,6))\n",
    "    ax = fig.add_subplot(1, 1, 1)\n",
    "    if((h[0])>m):\n",
    "        ax.plot(r,h, '--' 'b')\n",
    "        ax.plot(rm,h, '--' 'b')\n",
    "        ax.hlines(y= H, xmin=R,  xmax= x_max, linestyle='--', colors='b')\n",
    "        ax.hlines(y= H, xmin=-R, xmax=-x_max, linestyle='--', colors='b')\n",
    "    else:\n",
    "        ax.plot(r,h, 'r')\n",
    "        ax.plot(rm,h, 'r')\n",
    "        ax.hlines(y= H, xmin= R, xmax= x_max, colors='r')    \n",
    "        ax.hlines(y= H, xmin=-R, xmax=-x_max, colors='r')\n",
    "        ax.text((R/2),(H*1.05),'UNCONFINED CONDITIONS - ADJUST PARAMETER')\n",
    "    \n",
    "    ax.set(xlabel='x [m]',ylabel='head [m]', xlim=[(-x_max*1.1),(x_max*1.1)], ylim=[0,(H+5)])\n",
    "    \n",
    "    # MAKE 'WATER'-TRIANGLE\n",
    "    ax.arrow(x_max*0.95,(H+(H*0.04)), 0, -0.01, fc=\"k\", ec=\"k\",head_width=(x_max*0.04), head_length=(H*0.04))\n",
    "    ax.hlines(y= H-(H*0.02), xmin=x_max*0.93, xmax=x_max*0.97, colors='blue')   \n",
    "    ax.hlines(y= H-(H*0.04), xmin=x_max*0.94, xmax=x_max*0.96, colors='blue')   \n",
    "    \n",
    "    ax.hlines(y= m, xmin=-x_max, xmax=x_max, colors='saddlebrown')    #AQUIFER TOP LINE\n",
    "    \n",
    "    # COLORED AREA (ATTN: Y-VALUES = RELATIVE VALUE)\n",
    "    ax.axvspan(-x_max, x_max, ymin=0, ymax=(m/(H+5)), alpha=0.5, color='lightblue')\n",
    "    ax.axvspan(-x_max, x_max, ymin=0, ymax=((H+5)/1), alpha=0.5, color='grey')\n",
    "    \n",
    "    ax.text((x_max/2),(m/2),'confined aquifer')\n",
    "    \n",
    "    plt.show()\n",
    "\n",
    "interact(confined,\n",
    "         x_max = widgets.FloatSlider   (value = 5000, min =     10, max = 10000, step =     50, description = r'\\(\\ x_{max} \\):', disabled = False),\n",
    "         H =     widgets.FloatSlider   (value = 25,   min =      1,     max=100, step =    0.5, description = 'H (m)   :', disabled=False),\n",
    "         r_w =   widgets.FloatSlider   (value = 2,    min = 0.0001,      max=10, step =    0.5, description = r'\\(\\ r_w \\):', disabled=False),\n",
    "         K =     widgets.FloatLogSlider(value = 0.001,base= 10, min=-6,  max=-2, step = 0.0001, readout_format='.6f', description='K (m/s):'),\n",
    "         Q =     widgets.FloatSlider   (value = 0.1,  min =  0.001,       max=1, step =   0.01, description = 'Q (m3/s):' , disabled=False),\n",
    "         m =     widgets.FloatSlider   (value = 10,   min =      1,     max=100, step =    0.5, description = 'm (m)   :' , disabled=False))"
   ]
  },
  {
   "cell_type": "code",
   "execution_count": null,
   "metadata": {},
   "outputs": [],
   "source": []
  }
 ],
 "metadata": {
  "kernelspec": {
   "display_name": "Python 3 (ipykernel)",
   "language": "python",
   "name": "python3"
  },
  "language_info": {
   "codemirror_mode": {
    "name": "ipython",
    "version": 3
   },
   "file_extension": ".py",
   "mimetype": "text/x-python",
   "name": "python",
   "nbconvert_exporter": "python",
   "pygments_lexer": "ipython3",
   "version": "3.11.7"
  }
 },
 "nbformat": 4,
 "nbformat_minor": 4
}
