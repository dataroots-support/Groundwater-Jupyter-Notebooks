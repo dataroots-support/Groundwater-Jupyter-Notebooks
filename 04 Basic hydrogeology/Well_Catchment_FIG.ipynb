{
 "cells": [
  {
   "cell_type": "markdown",
   "metadata": {},
   "source": [
    "# Well capture zone\n",
    "\n",
    "**Parameters to modify**\n",
    "\n",
    "* Hydraulic conductivity _K_ of the aquifer(in m/s),\n",
    "* Pumping rate _Q_ of the well(in m3/s),\n",
    "* The regional hydraulic gradient of groundwater flow _i_, and\n",
    "* The aquifer thickness _b_ (in m).\n",
    "\n",
    "Further modifications are intended to re-shape and format the plot."
   ]
  },
  {
   "cell_type": "code",
   "execution_count": 1,
   "metadata": {},
   "outputs": [
    {
     "data": {
      "application/vnd.jupyter.widget-view+json": {
       "model_id": "e60c81ac781043afabfb8abb110dda07",
       "version_major": 2,
       "version_minor": 0
      },
      "text/plain": [
       "interactive(children=(FloatLogSlider(value=0.005295138888888889, description='K', max=-1.0, min=-6.0, readout_…"
      ]
     },
     "metadata": {},
     "output_type": "display_data"
    },
    {
     "data": {
      "text/plain": [
       "<function __main__.TSL_conf(x_max, K, Q, i, b, x_scale, y_scale)>"
      ]
     },
     "execution_count": 1,
     "metadata": {},
     "output_type": "execute_result"
    }
   ],
   "source": [
    "# Initialize librarys\n",
    "import matplotlib\n",
    "import matplotlib.pyplot as plt\n",
    "import numpy as np\n",
    "import math\n",
    "from ipywidgets import *\n",
    "from math import pi, tan\n",
    "\n",
    "# Function for catchment width (maximale Breite des Einzugsgebietes)\n",
    "def ymax_conf(Q, K, i, b):\n",
    "    ymax = Q/(2.*K*i*b)\n",
    "    return ymax\n",
    "\n",
    "# Function for the culmination point (Kulminationspunkt)\n",
    "def x0_conf(Q, K, i, b):\n",
    "    x0 = -Q/(2.*np.pi*K*i*b)\n",
    "    return x0\n",
    "\n",
    "# Computaton of the well catchment (Berechnung der Trennstromlinie)\n",
    "def TSL_conf(x_max, K, Q, i, b, x_scale, y_scale):\n",
    "    ymax = 0.0\n",
    "    ymax = ymax_conf(Q, K, i, b)\n",
    "    x0   = x0_conf(Q, K, i, b)\n",
    "    x = np.arange(int(x0)-1, x_max,1)\n",
    "    y = np.arange(-ymax*0.999, ymax, 0.1)\n",
    "\n",
    "    x_point = 0\n",
    "    y_point = 0\n",
    "    # Compute catchment\n",
    "    x = -1*y/(np.tan(2*np.pi*K*i*b*y/Q))\n",
    "    \n",
    "    x_plot = 500 * x_scale\n",
    "    y_plot = 1000 * y_scale\n",
    "    \n",
    "    # Plot\n",
    "    fig = plt.figure(figsize=(8,6))\n",
    "    ax = fig.add_subplot(1, 1, 1)\n",
    "\n",
    "    ax.plot(x,y, label='Stream divide')\n",
    "    plt.plot(x_point,y_point, marker='o', color='r',linestyle ='None', label='pumping well') \n",
    "    ax.set(xlabel='x (m)', ylabel='y (m)',title='Catchment area of a pumping well')\n",
    "    ax.set(xlim=(-x_plot, 10*x_plot), ylim=(-y_plot, y_plot))\n",
    "    plt.fill_between(x,y,color='blue', alpha=.1)\n",
    "    plt.fill_between(x,-y,color='blue', alpha=.1)\n",
    "    ax.grid()\n",
    "    plt.legend()\n",
    "    plt.show()\n",
    "    \n",
    "    print(\"y_max: %5.2f\" %ymax)\n",
    "    print('x_0:  %5.2f' %x0)\n",
    "    \n",
    "    \n",
    "x_max = 1000      # Internal parameter to define the number range\n",
    "Q = 4320 / 86400  # Abstraction rate, in meters and seconds\n",
    "K = 457.5 / 86400 # hydraulic conductivity in m und sec   \n",
    "i = 0.003         # Regional gradient of groundwater flow\n",
    "b = 23            # Thickness of the homogeneous and isotropic aquifer\n",
    "\n",
    "interact(TSL_conf,\n",
    "         x_max=fixed(x_max),\n",
    "         Q=widgets.FloatText        (value=Q, min = 0.001, max = 1, step = 0.01),\n",
    "         K=widgets.FloatLogSlider   (value=K,base=10,min=-6, max=-1, step=0.01,readout=True,readout_format='.2e'),\n",
    "         i=widgets.FloatText        (value=i,min = 0.0001, max=0.1, step=0.001,readout=True,readout_format='e'),\n",
    "         b=widgets.FloatText        (value=b,min = 1,max = 200, step = 1),\n",
    "         x_scale = widgets.FloatText(value=0.3,min = 0.1,max = 10, step = 0.1),\n",
    "         y_scale = widgets.FloatText(value=0.3,min = 0.1,max = 10, step = 0.1))"
   ]
  },
  {
   "cell_type": "markdown",
   "metadata": {},
   "source": [
    "<br>Developed by: Thomas.Reimann@tu-dresden.de\n",
    "<br>Last change: 2023 12 06"
   ]
  },
  {
   "cell_type": "markdown",
   "metadata": {},
   "source": [
    "<hr>\n",
    "&copy; 2023 | Thomas Reimann\n",
    "<a rel=\"license\" href=\"http://creativecommons.org/licenses/by/4.0/\"><img style=\"float: right\" alt=\"Creative Commons Lizenzvertrag\" style=\"border-width:0\" src=\"https://i.creativecommons.org/l/by/4.0/88x31.png\" /></a>"
   ]
  },
  {
   "cell_type": "code",
   "execution_count": null,
   "metadata": {},
   "outputs": [],
   "source": []
  }
 ],
 "metadata": {
  "kernelspec": {
   "display_name": "Python 3 (ipykernel)",
   "language": "python",
   "name": "python3"
  },
  "language_info": {
   "codemirror_mode": {
    "name": "ipython",
    "version": 3
   },
   "file_extension": ".py",
   "mimetype": "text/x-python",
   "name": "python",
   "nbconvert_exporter": "python",
   "pygments_lexer": "ipython3",
   "version": "3.11.7"
  },
  "toc": {
   "base_numbering": 1,
   "nav_menu": {},
   "number_sections": true,
   "sideBar": true,
   "skip_h1_title": false,
   "title_cell": "Table of Contents",
   "title_sidebar": "Contents",
   "toc_cell": false,
   "toc_position": {},
   "toc_section_display": true,
   "toc_window_display": false
  }
 },
 "nbformat": 4,
 "nbformat_minor": 4
}
