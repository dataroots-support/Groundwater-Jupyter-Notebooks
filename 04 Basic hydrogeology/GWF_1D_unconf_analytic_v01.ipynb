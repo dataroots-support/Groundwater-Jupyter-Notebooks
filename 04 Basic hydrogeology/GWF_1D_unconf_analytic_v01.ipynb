{
 "cells": [
  {
   "cell_type": "markdown",
   "metadata": {
    "cell_style": "center",
    "slideshow": {
     "slide_type": "slide"
    }
   },
   "source": [
    "# What is a groundwater divide?\n",
    "\n",
    "**General**\n",
    "\n",
    "A groundwater divide is a naturally-occurring separation of areas where groundwater flows in opposite directions. It is conceptually represented by the subsequent graphical representation.\n",
    "\n",
    "<br>\n",
    "<figure>\n",
    "  <img src=\"FIGS/FIG138_GW_DIVIDE.jpg\" alt=\"The concept of a groundwater divide (modified from USGS, 2007).\" style=\"width:50%\">\n",
    "  <figcaption>Fig.1 - The concept of a groundwater divide (modified from USGS, 2007).</figcaption>\n",
    "</figure>\n",
    "\n",
    "**Computation and visualization example: Situation**\n",
    "\n",
    "The situation considers a homogeneous and isotropic aquifer with horizontal bottom. The aquifer is bounded by two surface water features (e.g., lakes, streams) that provide a defined-head. From the top, the aquifer receives uniform groundwater recharge. Figure 1 illustrates the situation.\n",
    "\n",
    "<br>\n",
    "<figure>\n",
    "  <img src=\"FIGS/concept_1D_flow_unconfined.png\" alt=\"Conceptual model for 1D flow in an unconfined aquifer\" style=\"width:50%\">\n",
    "  <figcaption>Fig.1 - Conceptual model for 1D flow in an unconfined aquifer.</figcaption>\n",
    "</figure>\n",
    "\n",
    "Subsequently, the situation is covered by a mathematical equation, which compute the hydraulic head as function of the aquifers hydraulic conductivity _K_ and recharge _R_.\n",
    "\n",
    "**Modifying the plot**\n",
    "\n",
    "You can modify the parameters to investigate the functional behavior. \n",
    "- You can try to alter the groundwater recharge _R_ (in mm/a) and \n",
    "- the hydraulic conductivity _K_ (in m/s).\n",
    "\n",
    "**For what parameters a groundwater divide occurs? Investigate by your own!**"
   ]
  },
  {
   "cell_type": "code",
   "execution_count": 1,
   "metadata": {
    "slideshow": {
     "slide_type": "skip"
    }
   },
   "outputs": [
    {
     "data": {
      "application/vnd.jupyter.widget-view+json": {
       "model_id": "a5129441e6ae47f8bf00a14169a828b5",
       "version_major": 2,
       "version_minor": 0
      },
      "text/plain": [
       "interactive(children=(IntSlider(value=0, description='R', max=500, min=-500, step=10), FloatLogSlider(value=0.…"
      ]
     },
     "metadata": {},
     "output_type": "display_data"
    },
    {
     "data": {
      "text/plain": [
       "<function __main__.head(R, K, hl, hr, L, y_scale)>"
      ]
     },
     "execution_count": 1,
     "metadata": {},
     "output_type": "execute_result"
    }
   ],
   "source": [
    "# Initialize librarys\n",
    "from scipy.special import erfc, erf\n",
    "import matplotlib\n",
    "import matplotlib.pyplot as plt\n",
    "import numpy as np\n",
    "import math\n",
    "from ipywidgets import *\n",
    "\n",
    "# Definition of the function\n",
    "def head(R, K, hl, hr, L, y_scale):\n",
    "    x = np.arange(0, L,L/1000)\n",
    "    R=R/1000/365.25/86400\n",
    "    h=(hl**2-(hl**2-hr**2)/L*x+(R/K*x*(L-x)))**0.5\n",
    "    \n",
    "    # PLOT FIGURE\n",
    "    fig = plt.figure(figsize=(9,6))\n",
    "    ax = fig.add_subplot(1, 1, 1)\n",
    "    ax.plot(x,h)\n",
    "    ax.set(xlabel='x', ylabel='head',title='Hydraulic head for 1D unconfined flow')\n",
    "    ax.fill_between(x,0,h, facecolor='lightblue')\n",
    "    \n",
    "    # BOUNDARY CONDITIONS hl, hr\n",
    "    ax.vlines(0, 0, hl, linewidth = 10, color='b')\n",
    "    ax.vlines(L, 0, hr, linewidth = 10, color='b')\n",
    "    \n",
    "    # MAKE 'WATER'-TRIANGLE\n",
    "    h_arrow = (hl**2-(hl**2-hr**2)/L*(L*0.96)+(R/K*(L*0.96)*(L-(L*0.96))))**0.5  #water level at arrow\n",
    "    ax.arrow(L*0.96,(h_arrow+(h_arrow*0.002)), 0, -0.01, fc=\"k\", ec=\"k\", head_width=(L*0.015), head_length=(h_arrow*0.0015))\n",
    "    ax.hlines(y= h_arrow-(h_arrow*0.0005), xmin=L*0.95, xmax=L*0.97, colors='blue')   \n",
    "    ax.hlines(y= h_arrow-(h_arrow*0.001), xmin=L*0.955, xmax=L*0.965, colors='blue')\n",
    "\n",
    "    #ARROWS FOR RECHARGE \n",
    "    if R != 0:\n",
    "        head_length=(R*86400*365.25*1000*0.002)*y_scale/2\n",
    "        h_rch1 = (hl**2-(hl**2-hr**2)/L*(L*0.25)+(R/K*(L*0.25)*(L-(L*0.25))))**0.5  #water level at arrow for Recharge Posotion 1\n",
    "        ax.arrow(L*0.25,(h_rch1+head_length), 0, -0.01, fc=\"k\", ec=\"k\", head_width=(head_length*300/y_scale), head_length=head_length)\n",
    "        h_rch2 = (hl**2-(hl**2-hr**2)/L*(L*0.50)+(R/K*(L*0.50)*(L-(L*0.50))))**0.5  #water level at arrow for Recharge Postition 2\n",
    "        ax.arrow(L*0.50,(h_rch2+head_length), 0, -0.01, fc=\"k\", ec=\"k\", head_width=(head_length*300/y_scale), head_length=head_length)\n",
    "        h_rch3 = (hl**2-(hl**2-hr**2)/L*(L*0.75)+(R/K*(L*0.75)*(L-(L*0.75))))**0.5  #water level at arrow for Recharge Position 3\n",
    "        ax.arrow(L*0.75,(h_rch3+head_length), 0, -0.01, fc=\"k\", ec=\"k\", head_width=(head_length*300/y_scale), head_length=head_length)\n",
    "\n",
    "    #Groundwater divide\n",
    "    max_y = max(h)\n",
    "    max_x = x[h.argmax()]\n",
    "    R_min_ms=K*abs(hl**2-hr**2)/L**2\n",
    "    if R>R_min_ms:\n",
    "        plt.vlines(max_x,0,max_y, color=\"r\")\n",
    "\n",
    "    plt.ylim(hl*(1-y_scale/100),hr*(1+y_scale/100))\n",
    "    plt.xlim(-50,L+50)\n",
    "    plt.text(L, (hr*1.016), 'R: {} m/s '.format(R), horizontalalignment='right', bbox=dict(boxstyle=\"square\", facecolor='grey'))\n",
    "    ax.grid()\n",
    "    plt.show()\n",
    "    #print('R: ',R, ' m/s')\n",
    "    \n",
    "# Computation\n",
    "\n",
    "interact(head,\n",
    "         y_scale = widgets.BoundedFloatText(value=3, min=1, max=100, step=1, description='Scal. head:', disabled=False),\n",
    "         hl=widgets.BoundedFloatText(value=150, min=0, max=1000, step=1, description=\"$h_0$:\", disabled=False),\n",
    "         hr=widgets.BoundedFloatText(value=152, min=0, max=1000, step=1, description='$h_L$:', disabled=False),\n",
    "         L= widgets.BoundedFloatText(value=2500,min=0, max=20000,step=100, description='$L$:' , disabled=False),\n",
    "         R=(-500,500,10),\n",
    "         K=widgets.FloatLogSlider(value=0.0001,base=10,min=-6, max=-2, step=0.1,readout=True,readout_format='.2e'))"
   ]
  },
  {
   "cell_type": "markdown",
   "metadata": {},
   "source": [
    "<hr>\n",
    "&copy; 2024 | Thomas Reimann\n",
    "<a rel=\"license\" href=\"http://creativecommons.org/licenses/by/4.0/\"><img style=\"float: right\" alt=\"Creative Commons Lizenzvertrag\" style=\"border-width:0\" src=\"https://i.creativecommons.org/l/by/4.0/88x31.png\" /></a>"
   ]
  }
 ],
 "metadata": {
  "celltoolbar": "Slideshow",
  "kernelspec": {
   "display_name": "Python 3 (ipykernel)",
   "language": "python",
   "name": "python3"
  },
  "language_info": {
   "codemirror_mode": {
    "name": "ipython",
    "version": 3
   },
   "file_extension": ".py",
   "mimetype": "text/x-python",
   "name": "python",
   "nbconvert_exporter": "python",
   "pygments_lexer": "ipython3",
   "version": "3.11.7"
  },
  "toc": {
   "base_numbering": 1,
   "nav_menu": {},
   "number_sections": true,
   "sideBar": true,
   "skip_h1_title": false,
   "title_cell": "Table of Contents",
   "title_sidebar": "Contents",
   "toc_cell": false,
   "toc_position": {},
   "toc_section_display": true,
   "toc_window_display": false
  }
 },
 "nbformat": 4,
 "nbformat_minor": 4
}
