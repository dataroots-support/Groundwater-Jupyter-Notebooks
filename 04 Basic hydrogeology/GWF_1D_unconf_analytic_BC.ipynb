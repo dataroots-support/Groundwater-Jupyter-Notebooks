{
 "cells": [
  {
   "cell_type": "markdown",
   "metadata": {},
   "source": [
    "Developed by: Thomas.Reimann@tu-dresden.de / Sophie.Pfoertner@mailbox.tu-dresden.de / Anne.Pfoertner@mailbox.tu-dresden.de\n",
    "<br>Last change: 2020 11 06\n",
    "<br>Current state: funktional\n",
    "<br>ToDo:\n",
    "\n",
    "- Code optimieren ? (TR)\n",
    "- Formatierung (Arrow / GWN Pfeile / Grundwasser Dreieck) in andere übertragen\n",
    "- Bei Frage 2: Antwort über Textauswahl (Dropdown?)"
   ]
  },
  {
   "cell_type": "markdown",
   "metadata": {},
   "source": [
    "<center>\n",
    "    \n",
    "# Physikalische und Hydraulische Randbedingungen  </center>\n",
    "Dieses Notebook erläutert den Unterschied zwischen physikalischen und hydraulischen Randbedingungen anhand eines einfach Beispiels. Mit den zugehörigen Aufgaben kann das Verhalten der einzelnen Randbedingungen näher untersucht werden.\n",
    "\n",
    "### Lernziele:\n",
    "Nachdem Sie dieses Notebook erfolgreich bearbeitet haben, können Sie:\n",
    "* Die Unterschiede zwischen hydraulischen und physikalischen Randbedingungen für Grundwasserströmungsmodelle erläutern;\n",
    "* Disskutieren, mit welchen Möglichkeiten eine Grundwasserscheide für ein Grundwasserströmungsmodell berücksichtigt werden kann.\n",
    "\n",
    "### Ausgangssituation\n",
    "Betrachtet wird ein ungespannter, homogener und isotroper Grundwasserleiter, der durch zwei Standgewässer begrenzt wird. Der Grundwasserleiter wird zusätzlich durch Grundwasserneubildung gespeist. Die Grundwasserhydraulik kann durch eine 1D Vereinfachung der allgemeinen Grundwasserströmungsgleichung beschrieben werden, für die folgende analytische Lösung existiert (siehe nachfolgende Abbildung)\n",
    "\n",
    "<br>\n",
    "<center>$\\large h(x)=\\sqrt{H_l^2-\\frac{H_l^2-H_r^2}{L}x+\\frac{q_n}{K}x(L-x)}$</center>\n",
    "<br>\n",
    "mit\n",
    "\n",
    "* $h$ = Potentialhöhe\n",
    "* $x$ = Ortskoordinate entlang der Strömungsrichtung\n",
    "* $K$ = hydraulische Leitfähigkeit\n",
    "* $L$ = Distanz zwischen den beiden definierten Potentialhöhen\n",
    "* $H_l$ = definierte Potentialhöhe am linken Rand\n",
    "* $H_r$ = definierte Potentialhöhe am rechten Rand\n",
    "* $q_n$ = Grundwasserneubildung\n",
    "\n",
    "<figure>\n",
    "  <img src=\"./FIGS/1D_unconfied_BC_4.png\" alt=\"Trulli\" style=\"width:50%\">\n",
    "  <figcaption>Abb.1 - Skizze der hydrogeologischen Situation.</figcaption>\n",
    "</figure>\n",
    "\n",
    "<br> Im nachfolgenden Teil des Notebooks wird die analytische Lösung ermittelt und grafisch dargestellt."
   ]
  },
  {
   "cell_type": "code",
   "execution_count": null,
   "metadata": {},
   "outputs": [],
   "source": [
    "# Initialize librarys\n",
    "from scipy.special import erfc, erf\n",
    "import matplotlib\n",
    "import matplotlib.pyplot as plt\n",
    "import numpy as np\n",
    "import math\n",
    "from ipywidgets import *"
   ]
  },
  {
   "cell_type": "code",
   "execution_count": null,
   "metadata": {},
   "outputs": [],
   "source": [
    "# Definition of the function\n",
    "def head(hl, hr, L, R, K,y_scale):\n",
    "    x = np.arange(0, L,L/1000)\n",
    "    R=R/1000/365.25/86400\n",
    "    h=(hl**2-(hl**2-hr**2)/L*x+(R/K*x*(L-x)))**0.5\n",
    "    \n",
    "    # PLOT FIGURE\n",
    "    fig = plt.figure(figsize=(9,6))\n",
    "    ax = fig.add_subplot(1, 1, 1)\n",
    "    ax.plot(x,h)\n",
    "    ax.set(xlabel='x (m)', ylabel='Druckpotential (m)',title='Potentialhöhe für die 1D ungespannte Grundwasserströmung')\n",
    "    ax.fill_between(x,0,h, facecolor='lightblue')\n",
    "    \n",
    "    # BOUNDARY CONDITIONS hl, hr\n",
    "    ax.vlines(0, 0, hl, linewidth = 10, color='b')\n",
    "    ax.vlines(L, 0, hr, linewidth = 10, color='b')\n",
    "    \n",
    "    # MAKE 'WATER'-TRIANGLE\n",
    "    y_range = abs((hl*(1-y_scale/100))-(hr*(1+y_scale/100)))\n",
    "    h_arrow = (hl**2-(hl**2-hr**2)/L*(L*0.96)+(R/K*(L*0.96)*(L-(L*0.96))))**0.5  #water level at arrow\n",
    "    ax.arrow(L*0.96,(h_arrow+(h_arrow*0.004)), 0, -0.01, fc=\"k\", ec=\"k\", head_width=(L*0.015), head_length=(y_range*0.03))\n",
    "    #ax.hlines(y= h_arrow-(h_arrow*0.0005), xmin=L*0.95, xmax=L*0.97, colors='blue')   \n",
    "    ax.hlines(y= h_arrow-(y_range*0.01), xmin=L*0.95, xmax=L*0.97, colors='blue') \n",
    "    #ax.hlines(y= h_arrow-(h_arrow*0.001), xmin=L*0.955, xmax=L*0.965, colors='blue')\n",
    "    ax.hlines(y= h_arrow-(y_range*0.015), xmin=L*0.955, xmax=L*0.965, colors='blue')\n",
    "\n",
    "    #ARROWS FOR RECHARGE \n",
    "    if R != 0:\n",
    "        head_length=(R*86400*365.25*1000*0.0005)*y_range\n",
    "        h_rch1 = (hl**2-(hl**2-hr**2)/L*(L*0.25)+(R/K*(L*0.25)*(L-(L*0.25))))**0.5  #water level at arrow for Recharge Posotion 1\n",
    "        ax.arrow(L*0.25,(h_rch1+head_length), 0, -0.01, fc=\"k\", ec=\"k\", head_width=(L*0.03), head_length=head_length)\n",
    "        h_rch2 = (hl**2-(hl**2-hr**2)/L*(L*0.50)+(R/K*(L*0.50)*(L-(L*0.50))))**0.5  #water level at arrow for Recharge Postition 2\n",
    "        ax.arrow(L*0.50,(h_rch2+head_length), 0, -0.01, fc=\"k\", ec=\"k\", head_width=(L*0.03), head_length=head_length)\n",
    "        h_rch3 = (hl**2-(hl**2-hr**2)/L*(L*0.75)+(R/K*(L*0.75)*(L-(L*0.75))))**0.5  #water level at arrow for Recharge Position 3\n",
    "        ax.arrow(L*0.75,(h_rch3+head_length), 0, -0.01, fc=\"k\", ec=\"k\", head_width=(L*0.03), head_length=head_length)\n",
    "\n",
    "    \n",
    "    #Grundwasserscheide\n",
    "    max_y = max(h)\n",
    "    max_x = x[h.argmax()]\n",
    "    R_min_ms=K*abs(hl**2-hr**2)/L**2\n",
    "    if R>R_min_ms:\n",
    "        plt.vlines(max_x,0,max_y, color=\"r\")\n",
    "\n",
    "    plt.ylim(hl*(1-y_scale/100),hr*(1+y_scale/100))\n",
    "    plt.xlim(-50,L+50)\n",
    "    plt.text(L, (hr*(1+y_scale/100))-0.1*y_range, r'GWN: {:.3e} m/s '.format(R), horizontalalignment='right', bbox=dict(boxstyle=\"square\", facecolor='azure'),fontsize=12)\n",
    "    ax.grid()\n",
    "    plt.show()\n",
    "    #print('R: ',R, ' m/s')\n"
   ]
  },
  {
   "cell_type": "code",
   "execution_count": null,
   "metadata": {},
   "outputs": [],
   "source": [
    "# Computation\n",
    "\n",
    "interact(head,\n",
    "         y_scale = widgets.BoundedFloatText(value=5, min=1, max=100, step=1, description='Skal. y-Achse:', disabled=False),\n",
    "         hl=widgets.BoundedFloatText(value=100, min=0, max=1000, step=1, description='H_l:', disabled=False),\n",
    "         hr=widgets.BoundedFloatText(value=102, min=0, max=1000, step=1, description='H_r:', disabled=False),\n",
    "         L= widgets.BoundedFloatText(value=2500,min=0, max=20000,step=100, description='L:' , disabled=False),\n",
    "         R=widgets.FloatSlider(value=0,min=-500, max=500, step=10,description='GWN:', disabled=False),\n",
    "         K=widgets.FloatLogSlider(value=0.0001,base=10,min=-6, max=-2, step=0.1,description='K:',readout=True,readout_format='.2e'))"
   ]
  },
  {
   "cell_type": "markdown",
   "metadata": {},
   "source": [
    "### Anleitung zur eigenen Untersuchung\n",
    "\n",
    "1) Stellen Sie mit Hilfe der Schieberegler die initialen Größen für Grundwasserneubildung (GWN) und hydraulische Leitfähigkeit K ein (Hinwweis: Zahlenwerte können direkt modifiziert werden)\n",
    "* Hl = 100 m\n",
    "* Hr = 102 m\n",
    "* GWN = 200 mm/a und\n",
    "* K = 2e-5.\n",
    "<br>\n",
    "\n",
    "**FRAGE 1:** Es bildet sich eine Grundwasserscheide aus (rote Linie). Beschreiben Sie, in welche Richtung sich das aus der Grundwasserneubildung zuströmende Wasser bewegt.\n",
    "<br>\n",
    "Die Situation soll mit einem numerischen Modell simuliert werden. Dazu werden drei mögliche Randbedingungen in Betracht gezogen, welche in Abbildung 2 mit **A, B und C** bezeichnet werden.\n",
    "<br>\n",
    "\n",
    "<figure>\n",
    "  <img src=\"../FIG/MWW01_T02_1D_unconfied_BC_2.png\" alt=\"Abb. 2\" style=\"width:50%\">\n",
    "  <figcaption>Abb.2 - Skizze der hydrogeologischen Situation mit weiteren Angaben zur Aufgabenstellung.</figcaption>\n",
    "</figure>\n",
    "\n",
    "**Frage 2:** Entscheiden Sie für die Randbedingungen **A, B, und C** (S. Abb. 2), ob es sich um physikalische oder hydraulische Randbedingungen handelt und notieren Sie Ihre (initiale) Antwort in der folgenden Box des Notebooks:"
   ]
  },
  {
   "cell_type": "code",
   "execution_count": null,
   "metadata": {},
   "outputs": [],
   "source": [
    "A = \"Phy\"\n",
    "B = \"HIER EINFACH ANTWORT NOTIEREN\"\n",
    "C = \"HIER EINFACH ANTWORT NOTIEREN\"\n",
    "\n",
    "print(\"RB A: \",A,\", RB B: \",B,\", RB C:\",C)"
   ]
  },
  {
   "cell_type": "markdown",
   "metadata": {},
   "source": [
    "**Frage 3:** In einem relativ trockenem Jahr reduziert sich die Grundwasserneubildung auf 100 mm/a.\n",
    "* Stellen Sie diesen Wert ein und beschreiben Sie, wie sich die Wasserscheide verhält.\n",
    "* Welche Auswirkungen hat die reduzierte GWN für die Randbedingung **B** (siehe Abb. 2)? Diskutieren Sie kritisch!\n",
    "* Abb. 2 zeigt ebenfalls zwei Modellvarianten (V1 und V2) - welche würden Sie für eine numerische Simulation empfehlen und warum?"
   ]
  },
  {
   "cell_type": "markdown",
   "metadata": {},
   "source": [
    "**Frage 4:** Für die numerische Simulation stehen nur begrenzte Ressourcen zur Verfügung, so dass Modell **V1** mit der geringeren räumlichen Ausdehnung verwendet wird. Bei dieser Entscheidung wurde davon ausgegangen, dass sich die Grundwasserneubildung nicht ändert.\n",
    "* Welche Art von Randbedingung schlagen Sie für **B** (siehe Abb. 2) vor? Notieren Sie Ihre (initiale) Antwort in der folgenden Box des Notebooks:"
   ]
  },
  {
   "cell_type": "code",
   "execution_count": null,
   "metadata": {},
   "outputs": [],
   "source": [
    "D = \"HIER EINFACH RB NOTIEREN\"\n",
    "print(\"Vorschlag Randbedingung: \",D)"
   ]
  },
  {
   "cell_type": "markdown",
   "metadata": {},
   "source": [
    "**Frage 5:** Infolge von Maßnahmen zur Wasserbewirtschaftung wird das Druckpotential in den Randbedingungen **A und B** jeweils um einen Meter erhöht.\n",
    "* Führen Sie diese Änderungen in der analyischen Lösung durch. Beschreiben Sie die Änderung von Lage und Druckpotential der Grundwasserscheide.\n",
    "* Prüfen Sie Ihre Entscheidung in Frage 4 hinsichtlich der Art der RB, revidieren Sie diese gegebenfalls und Begründen Sie ihre endgültige Auswahl."
   ]
  },
  {
   "cell_type": "markdown",
   "metadata": {},
   "source": [
    "<hr>\n",
    "&copy; 2021 | Thomas Reimann\n",
    "<a rel=\"license\" href=\"http://creativecommons.org/licenses/by/4.0/\"><img style=\"float: right\" alt=\"Creative Commons Lizenzvertrag\" style=\"border-width:0\" src=\"https://i.creativecommons.org/l/by/4.0/88x31.png\" /></a>"
   ]
  }
 ],
 "metadata": {
  "celltoolbar": "Slideshow",
  "kernelspec": {
   "display_name": "Python 3 (ipykernel)",
   "language": "python",
   "name": "python3"
  },
  "language_info": {
   "codemirror_mode": {
    "name": "ipython",
    "version": 3
   },
   "file_extension": ".py",
   "mimetype": "text/x-python",
   "name": "python",
   "nbconvert_exporter": "python",
   "pygments_lexer": "ipython3",
   "version": "3.11.7"
  },
  "toc": {
   "base_numbering": 1,
   "nav_menu": {},
   "number_sections": true,
   "sideBar": true,
   "skip_h1_title": false,
   "title_cell": "Table of Contents",
   "title_sidebar": "Contents",
   "toc_cell": false,
   "toc_position": {},
   "toc_section_display": true,
   "toc_window_display": false
  }
 },
 "nbformat": 4,
 "nbformat_minor": 4
}
