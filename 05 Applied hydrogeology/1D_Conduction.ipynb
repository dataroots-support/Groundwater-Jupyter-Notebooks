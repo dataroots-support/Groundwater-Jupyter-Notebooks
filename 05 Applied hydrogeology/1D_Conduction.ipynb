{
 "cells": [
  {
   "cell_type": "markdown",
   "metadata": {},
   "source": [
    "# Diffusive movement, groundwater flow, and heat conduction  \n",
    "\n",
    "\n",
    "Groundwater flow represents a gradient driven / diffusive movement. The notebook solves a diffusion equation in order to describe hydraulic head as function of space (x) and time (t).  \n",
    "\n",
    "Similar, movement of heat (conduction) is also a diffuse process.  \n",
    "\n",
    "Equations for groundwater flow and conduction behave similar and equations are to some extent equivalent."
   ]
  },
  {
   "cell_type": "markdown",
   "metadata": {},
   "source": [
    "# Equations (groundwater flow and heat conduction [in water])\n",
    "\n",
    "Subsequently, the parameters of groundwater flow (left side) and heat conduction (right side) are named.\n",
    "\n",
    "$S = c\\rho$\n",
    ">with $S$ = Storativity, $c$ = heat capacity, and $\\rho$ = density\n",
    "\n",
    "$K = \\lambda$\n",
    ">with $K$ = hydraulic conductivity, $\\lambda$ = thermal conductivity\n",
    "\n",
    "$D_f=\\frac{K}{S}$\n",
    ">with $D_f$ = hydraulic Diffusivity\n",
    "\n",
    "$D_h=\\frac{\\lambda_w}{c_w \\rho_w}$\n",
    ">with $D_h$ = thermal Diffusivity\n",
    "\n",
    "$h = T$\n",
    ">with $h$ = hydraulic head, $T$ = temperature\n",
    "\n",
    "1-D Conduction without heat storage\n",
    "\n",
    "$T(x,t)=T_0 erfc (\\frac{x}{\\sqrt{4 D_h t}})$\n",
    "\n",
    "1-D Groundwater movement\n",
    "\n",
    "$h(x,t)=h_0 erfc (\\frac{x}{\\sqrt{4 D_f t}})$"
   ]
  },
  {
   "cell_type": "code",
   "execution_count": 1,
   "metadata": {},
   "outputs": [
    {
     "data": {
      "application/vnd.jupyter.widget-view+json": {
       "model_id": "27f1ad1bd63b41ef8c1b8ca2b9ce4877",
       "version_major": 2,
       "version_minor": 0
      },
      "text/plain": [
       "interactive(children=(FloatSlider(value=2.0, description='$h_{add}$:', max=10.0, readout_format='.1f'), FloatS…"
      ]
     },
     "metadata": {},
     "output_type": "display_data"
    },
    {
     "data": {
      "text/plain": [
       "<function __main__.Flow_Cond_1D(h0, temp0, t_max, t2frac, x_max, x1frac, K, Ss, m, L, c, rho)>"
      ]
     },
     "execution_count": 1,
     "metadata": {},
     "output_type": "execute_result"
    }
   ],
   "source": [
    "# Initialize librarys\n",
    "from scipy.special import erfc, erf\n",
    "import matplotlib\n",
    "import matplotlib.pyplot as plt\n",
    "import numpy as np\n",
    "import math\n",
    "from ipywidgets import *\n",
    "\n",
    "# Define functions\n",
    "def D_f(K, Ss, m):\n",
    "    S = Ss*m\n",
    "    D_f = K/S\n",
    "    return D_f\n",
    "\n",
    "def D_h(L, c, rho):\n",
    "    crho = c*rho\n",
    "    D_h = L/crho\n",
    "    return D_h\n",
    "\n",
    "def Flow_Cond_1D(h0,temp0,t_max,t2frac,x_max,x1frac,K,Ss, m,L,c,rho):\n",
    "    save_dir = ('C:/FIGS/')\n",
    "    if not os.path.isdir(save_dir):\n",
    "        os.makedirs(save_dir)\n",
    "\n",
    "    t1s = np.arange(3600, t_max*86400, 3600)\n",
    "    t2  = t_max*t2frac\n",
    "    x1  = x_max*x1frac\n",
    "    x2  = np.arange(0, x_max, 1)\n",
    "    \n",
    "    # t in seconds\n",
    "    t1 = t1s/86400\n",
    "    t2s = t2*86400\n",
    "    \n",
    "    # Funktionen berechnen\n",
    "    h1=h0*erfc(x1/(4*D_f(K, Ss, m)*t1s)**0.5)\n",
    "    h2=h0*erfc(x2/(4*D_f(K, Ss, m)*t2s)**0.5)\n",
    "    temp1=temp0*erfc(x1/(4*D_h(L, c, rho)*t1s)**0.5)\n",
    "    temp2=temp0*erfc(x2/(4*D_h(L, c, rho)*t2s)**0.5)\n",
    "    \n",
    "    # Grafik erzeugen\n",
    "    fig = plt.figure(figsize=(16,12))\n",
    "    gs = fig.add_gridspec(2,2)\n",
    "    ax1 = fig.add_subplot(gs[0,0])\n",
    "    ax2 = fig.add_subplot(gs[0,1])\n",
    "    ax3 = fig.add_subplot(gs[1,0])\n",
    "    ax4 = fig.add_subplot(gs[1,1])\n",
    "    #fig, ax = plt.subplots()\n",
    "    \n",
    "    # Plot 1\n",
    "    ax1.plot(t1,h1, color='b')\n",
    "    ax1.set(xlabel='Time (days)', ylabel='Change in hydraulic head (m)',title='Hydraulic head as function of time')\n",
    "    ax1.grid()\n",
    "    ax1.set_ylim(0,h0*1.05)\n",
    "    ax1.set_xlim(0,t_max)\n",
    "    ax1.text(t_max*0.95, h0*0.9, 'x: {} m '.format(x1), horizontalalignment='right', bbox=dict(boxstyle=\"square\", facecolor='lightgrey'))\n",
    "    \n",
    "    # Plot 2\n",
    "    ax2.plot(x2,h2,color='b')\n",
    "    ax2.set(xlabel='Position (x)', ylabel='Change in hydraulic head (m)',title='Hydraulic head as function of space / distance')\n",
    "    ax2.grid()\n",
    "    ax2.set_ylim(0,h0*1.05)\n",
    "    ax2.set_xlim(0,x_max)\n",
    "    ax2.text(x_max*0.95, h0*0.9,  't: {} d '  .format(t2), horizontalalignment='right', bbox=dict(boxstyle=\"square\", facecolor='lightgrey'))\n",
    "    ax2.text(x_max*0.95, h0*0.13, 'K: {} m/s '.format(K), horizontalalignment='right', bbox=dict(boxstyle=\"square\", facecolor='lightgrey'))\n",
    "    ax2.text(x_max*0.95, h0*0.06, 'S: {} - '  .format(Ss*m), horizontalalignment='right', bbox=dict(boxstyle=\"square\", facecolor='lightgrey'))\n",
    "    \n",
    "    # Plot 3\n",
    "    ax3.plot(t1,temp1, color='r')\n",
    "    ax3.set(xlabel='Time (days)', ylabel='Change in temperature (K)',title='Temperature as function of time')\n",
    "    ax3.grid()\n",
    "    ax3.set_ylim(0,temp0*1.05)\n",
    "    ax3.set_xlim(0,t_max)\n",
    "    ax3.text(t_max*0.95, temp0*0.9, 'x: {} m '.format(x1), horizontalalignment='right', bbox=dict(boxstyle=\"square\", facecolor='lightgrey'))\n",
    "    \n",
    "    # Plot 4\n",
    "    ax4.plot(x2,temp2, color='r')\n",
    "    ax4.set(xlabel='Position (x)', ylabel='Change in temperature (K)',title='Temperature as function of space / distance')\n",
    "    ax4.grid()\n",
    "    ax4.set_ylim(0,temp0*1.05)\n",
    "    ax4.set_xlim(0,x_max)\n",
    "    ax4.text(x_max*0.95, temp0*0.9,  't: {} d '  .format(t2), horizontalalignment='right', bbox=dict(boxstyle=\"square\", facecolor='lightgrey'))\n",
    "    ax4.text(x_max*0.95, temp0*0.13, 'L: {} m/s '.format(L), horizontalalignment='right', bbox=dict(boxstyle=\"square\", facecolor='lightgrey'))\n",
    "    ax4.text(x_max*0.95, temp0*0.06, 'c x rho: {} m '  .format(c*rho), horizontalalignment='right', bbox=dict(boxstyle=\"square\", facecolor='lightgrey'))    \n",
    "\n",
    "    # plt.savefig(save_dir+'flow_temp_analytic.png', dpi=300)\n",
    "    plt.show()\n",
    "\n",
    "Ss_fix = 1e-5\n",
    "\n",
    "interact(Flow_Cond_1D,\n",
    "         h0=widgets.FloatSlider(value=2,min=0, max=10,step=0.1,description=\"$h_{add}$:\",readout=True,readout_format='.1f'),\n",
    "         temp0=widgets.FloatSlider(value=2,min=0, max=10,step=0.1,description=\"$t_{add}$:\",readout=True,readout_format='.1f'),\n",
    "         t_max=widgets.IntSlider(value=365,min=1, max=720,step=1,description=\"$t_{max}$:\",readout=True),\n",
    "         t2frac=widgets.FloatSlider(value=0.01,min=0.01, max=1,step=0.01,description=\"$t_{frac}$:\",readout=True,readout_format='.2f'),\n",
    "         x_max=widgets.IntSlider(value=1000,min=1, max=10000,step=1,description=\"$x_{max}$:\",readout=True),\n",
    "         x1frac=widgets.FloatSlider(value=0,min=0, max=1,step=0.01,description=\"$x_{frac}$:\",readout=True,readout_format='.2f'),         \n",
    "         K=widgets.FloatLogSlider(value=0.0001,base=10,min=-9, max=1, step=0.1,readout=True,readout_format='.2e'),\n",
    "         Ss=fixed(Ss_fix),\n",
    "         m =(1,500,1),\n",
    "         L=widgets.FloatSlider(value=0.598,min=-0.2, max=1,step=0.001,description=\"$\\lambda_{w}$:\",readout=True,readout_format='.3f'),\n",
    "         c=(500,5000,1),\n",
    "         rho=widgets.IntSlider(value=1000,min=950, max=1050,step=1,description=\"$\\rho_{w}$:\",readout=True))\n"
   ]
  },
  {
   "cell_type": "code",
   "execution_count": null,
   "metadata": {},
   "outputs": [],
   "source": []
  }
 ],
 "metadata": {
  "kernelspec": {
   "display_name": "Python 3 (ipykernel)",
   "language": "python",
   "name": "python3"
  },
  "language_info": {
   "codemirror_mode": {
    "name": "ipython",
    "version": 3
   },
   "file_extension": ".py",
   "mimetype": "text/x-python",
   "name": "python",
   "nbconvert_exporter": "python",
   "pygments_lexer": "ipython3",
   "version": "3.11.7"
  },
  "toc": {
   "base_numbering": 1,
   "nav_menu": {},
   "number_sections": true,
   "sideBar": true,
   "skip_h1_title": false,
   "title_cell": "Table of Contents",
   "title_sidebar": "Contents",
   "toc_cell": false,
   "toc_position": {},
   "toc_section_display": true,
   "toc_window_display": false
  }
 },
 "nbformat": 4,
 "nbformat_minor": 4
}
