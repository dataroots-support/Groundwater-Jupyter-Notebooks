{
 "cells": [
  {
   "cell_type": "markdown",
   "metadata": {},
   "source": [
    "# GVG460 - Topic 03 - Unsaturated zone\n",
    "\n",
    "**_Workbook for the exercise 01_**\n",
    "\n",
    "## Soil water retention curve and unsaturated hydraulic conductivity\n",
    "\n",
    "This notebook supports the evaluation of the Soil Water Retention Curve, which describes the relationship between moisture and suction head. <br>\n",
    "\n",
    "Further, the notebook allows to investigate the relationships between saturation and hydraulic conductivity introduced by Mualem and van Genuchten to describe water retention and hydraulic conductivity in the unsaturated zone for unconsolidated sediments. <br>"
   ]
  },
  {
   "cell_type": "markdown",
   "metadata": {},
   "source": [
    "<style>\n",
    "table {float:left}\n",
    "</style>\n",
    "\n",
    "The Notebook displays the retention function in red. Optionally, measured data can be showed within the plot (e.g. to inversely fit parameters to measured data). Additionally, the relative permeability can be plotted in an extra diagramm in blue. Use the sliders below to show or hide (1/0) additional data and diagramms. Parameter can be modified by using the slider or by directly modifying the data (just move your mouse over the data and modify in the textbox).<br>\n",
    "\n",
    "In addition, the following quantities are computed: <br>\n",
    "- van Genuchten parameter m = 1 - 1/n,\n",
    "- permanent wilting point (PWP),\n",
    "- field capacity (FC), and \n",
    "- effective field capacity (eFC). <br>\n",
    "\n",
    "|symbol | input parameters\t\t\t    |units\t    |remarks\n",
    "|:------|:------------------------------|:----------|:----------------------\n",
    "|$\\theta_r$|residual moisture content\t\t|\t-\t    |enter number between 0 and 1 required\n",
    "|$\\theta_s$    |moisture content at saturation\t|\t-\t    |enter number between residual moisture content and 1 required\n",
    "|$\\alpha$|shape parameter a\t\t\t    |   1/cm\t|enter positive number\n",
    "|$n$    |shape parameter n\t\t\t    |   -\t    |enter number > 1"
   ]
  },
  {
   "cell_type": "code",
   "execution_count": 1,
   "metadata": {},
   "outputs": [],
   "source": [
    "# Initialize the needed Python packages\n",
    "import math\n",
    "import numpy as np\n",
    "from ipywidgets import *\n",
    "from IPython.display import display,clear_output\n",
    "import matplotlib.pyplot as plt"
   ]
  },
  {
   "cell_type": "code",
   "execution_count": 2,
   "metadata": {},
   "outputs": [],
   "source": [
    "# given data (retention) - here you can use the approach to fit parameter to measured data\n",
    "\n",
    "t1=[0.09,0.12,0.15,0.18,0.21,0.24,0.27,0.3,0.33,0.36,0.39,0.42,0.45]\n",
    "p1=[2230.546345,577.472177,300.4391307,199.8371285,142.8205223,109.6375793,85.19965286,67.18768129,53.82569358,41.8841783,31.92533514,21.62546735,10.23974185]\n",
    "t2=[0.18,0.19,0.22,0.25,0.28,0.31,0.35,0.4,0.44,0.47,0.51,0.54,0.55]\n",
    "p2=[50030.534,9000.477,2000.407,900.835,500.023,120.633,60.528,30.189,11.823,7.883,1.514,0.625,0.285]\n",
    "t3=[0.35,0.37,0.4,0.42,0.44,0.47,0.49,0.5,0.52,0.54,0.55,0.57,0.57]\n",
    "p3=[350030.55,7800.21,1800.47,940.88,440.03,134.63,56.12,22.11,8.68,4.17,1.94,0.35,0.15]"
   ]
  },
  {
   "cell_type": "code",
   "execution_count": 3,
   "metadata": {},
   "outputs": [],
   "source": [
    "# Define the field for the question and the answer\n",
    "question = widgets.FloatText(\n",
    "    value=0,\n",
    "    description='Type your answer:',\n",
    "    style= {'description_width': 'initial'})\n",
    "\n",
    "answer = widgets.Valid(\n",
    "    value=None,\n",
    "    description='',\n",
    "    disabled = True,\n",
    "    style= {'description_width': 'initial'}\n",
    ")\n",
    "\n",
    "# Tell not to show the answer before the question has not been answered\n",
    "answered = False\n",
    "        \n",
    "# Couple the question input with the answer output\n",
    "def check_answer(change):\n",
    "    \"\"\"\n",
    "    Check the inputed answer against the calculated answer and update the answer field\n",
    "    \n",
    "    Keyword Arguments:\n",
    "    change -- ipywidgets listening object when the answer is inputed\n",
    "    \"\"\"\n",
    "    global answered\n",
    "    \n",
    "    if not answered:\n",
    "        display(answer)\n",
    "        answered = True\n",
    "    \n",
    "    if float(change[\"new\"]) == round(ts_slider.value, 2):\n",
    "        answer.description = \"Right!\"\n",
    "        answer.value = True\n",
    "    else:\n",
    "        answer.description = f\"Wrong!\"\n",
    "        answer.value = False\n",
    "question.observe(check_answer, names='value')"
   ]
  },
  {
   "cell_type": "code",
   "execution_count": 4,
   "metadata": {},
   "outputs": [
    {
     "data": {
      "application/vnd.jupyter.widget-view+json": {
       "model_id": "baf07c796bc343a9bb72c634d29d29c5",
       "version_major": 2,
       "version_minor": 0
      },
      "text/plain": [
       "interactive(children=(FloatSlider(value=0.05, continuous_update=False, description='$theta_r$ [-]:', max=0.4, …"
      ]
     },
     "metadata": {},
     "output_type": "display_data"
    },
    {
     "data": {
      "text/plain": [
       "<function __main__.RTC_VG_MUA(tr, ts, alpha, n, plot1, plot2, plot3, plot4, title, save_plot)>"
      ]
     },
     "execution_count": 4,
     "metadata": {},
     "output_type": "execute_result"
    }
   ],
   "source": [
    "#definition of the function (conductivity)\n",
    "def RTC_VG_MUA(tr, ts, alpha, n, plot1, plot2, plot3, plot4, title, save_plot):\n",
    "    x_max = 300\n",
    "    \n",
    "    # intermediate results \n",
    "    m   = 1-1/n                                         # van Genuchten parameter\n",
    "    PWP = tr + (ts - tr)/(1+(alpha*10**4.2)**n)**m      # permanent wilting point\n",
    "    FC  = tr + (ts - tr)/(1+(alpha*10**1.8)**n)**m      # field capacity\n",
    "    eFC = FC - PWP                                      # effective field capacity\n",
    "\n",
    "    # model output\n",
    "    t_plot  = []                                        # t  = theta = moisture content\n",
    "    p_plot  = []                                        # p  = phi   = suction head\n",
    "    kr_plot = []                                        # kr = rel. permeability\n",
    "    \n",
    "    for x in range (0, x_max):\n",
    "        t = tr + (ts-tr)*x/(x_max-1)                    # [-] moisture content; please note that range counts up to x_max-1\n",
    "        te = (t-tr)/(ts-tr)                             # [-] effective saturation      \n",
    "        if x == 0:\n",
    "            p     = 1E18                                # [cm] suction head\n",
    "            kr    = 0                                   # [-] relative hydraulic conductivity\n",
    "        else: \n",
    "            p     = ((te**(-1/m)-1)**(1/n))/alpha                      \n",
    "            kr    = np.sqrt(te)*(1-(1-te**(1/m))**m)**2\n",
    "        t_plot.append(t)\n",
    "        p_plot.append(p)\n",
    "        kr_plot.append(kr)\n",
    "        \n",
    "    \n",
    "    fig = plt.figure(figsize=(9,6))\n",
    "    ax  = fig.add_subplot()\n",
    "    ax.plot(t_plot, p_plot, 'r', markersize=3)\n",
    "    ax.vlines(x= tr, ymin=1e-1, ymax=1e+5, linestyle='--')      \n",
    "    ax.hlines(y= 10**4.2, xmin=0, xmax=PWP, colors='g')    #upper green line\n",
    "    ax.vlines(x= PWP, ymin=1e-1, ymax=10**4.2, colors='g')\n",
    "    ax.hlines(y= 10**1.8, xmin=0, xmax=FC, colors='b')     #bottom green line\n",
    "    ax.vlines(x= FC, ymin=1e-1, ymax=10**1.8, colors='b')\n",
    "    \n",
    "    if plot1 == 1:\n",
    "        ax.plot(t1, p1,'ro', markersize=3)\n",
    "    if plot2 == 1:\n",
    "        ax.plot(t2, p2,'bo', markersize=3)\n",
    "    if plot3 == 1:\n",
    "        ax.plot(t3, p3,'go', markersize=3)\n",
    "    ax.set(xlabel='water content [-]', ylabel ='suction head [cm]', xlim = [0, 0.7], ylim = [1e-1,1e+5], yscale = 'log' )\n",
    "    ax.grid(which=\"both\", color='grey',linewidth=0.5)\n",
    "    \n",
    "    text_box = [r\"$\\Theta_s$ = \" + str(ts),\n",
    "            r\"$\\Theta_r$ = \" + str(tr),\n",
    "            r\"$\\alpha$ = \" + str(alpha),\n",
    "            r\"$n$ = \" + str(n)]\n",
    "    ymin, ymax = ax.get_ylim()\n",
    "    xmin, xmax = ax.get_xlim()\n",
    "    \n",
    "    \n",
    "    plt.text(0.8 * xmax, 0.01 * ymax, \"\\n\".join(text_box), fontsize = 12, \n",
    "         bbox = dict(facecolor = 'red', alpha = 0.5))\n",
    "    plt.title(title, size=15)\n",
    "\n",
    "    if plot4 == 1:\n",
    "        fig = plt.figure(figsize=(6,4))\n",
    "        ax  = fig.add_subplot()\n",
    "        ax.plot(t_plot, kr_plot, 'b', markersize = 3)\n",
    "        ax.set(xlabel='water content [-]', ylabel='rel hydraulic conductivity [cm/d]', xlim = [0, 0.7], ylim = [0,1] )\n",
    "        ax.grid(which=\"major\", color='grey',linewidth=0.5)\n",
    "    \n",
    "    if save_plot:\n",
    "        plt.savefig(f'VanGenuchten_{title}.png')\n",
    "        \n",
    "    plt.show()\n",
    "    \n",
    "    print ('Van Genuchten             m:', '{:.5f}'.format(m) )\n",
    "    print ('Permanent Wilting Point PWP:', '{:.2f}'.format(PWP) )\n",
    "    print ('Field Capacity           FC:', '{:.2f}'.format(FC) )\n",
    "    print ('Eff. Field Capacity     eFC:', '{:.2f}'.format(eFC) )\n",
    "    \n",
    "ts_slider = widgets.FloatSlider(value=0.5 , min=0.2,     max=0.7, step=0.01, description='$theta_s$ [-]:', disabled=False, continuous_update=False)\n",
    "    \n",
    "interact(RTC_VG_MUA,\n",
    "         tr    = widgets.FloatSlider(value=0.05, min=0.01,    max=0.4, step=0.01, description='$theta_r$ [-]:', disabled=False, continuous_update=False),\n",
    "         ts    = ts_slider,\n",
    "         alpha = widgets.FloatSlider(value=0.1 , min=0.01,    max=1,   step=0.02, description='$alpha$ [1/cm]:', disabled=False, continuous_update=False),\n",
    "         n     = widgets.FloatSlider(value=1.2 , min=1.01,    max=3,   step=0.02, description= 'n  [-]:', disabled=False, continuous_update=False),\n",
    "         plot1 = widgets.Checkbox(value=False, description='Plot data1 ',disabled=False),    \n",
    "         plot2 = widgets.Checkbox(value=False, description='Plot data2 ',disabled=False),       \n",
    "         plot3 = widgets.Checkbox(value=False, description='Plot data3 ',disabled=False),       \n",
    "         plot4 = widgets.Checkbox(value=False, description='Plot $k_r$ ',disabled=False),\n",
    "         title = widgets.Text(value='Some Plot',placeholder='Type something',description='Title of plot',disabled=False),\n",
    "         save_plot = widgets.ToggleButton(value=False, description='Save current plot',disabled=False,\n",
    "                              button_style='',tooltip='Save current plot inside directory of this script')\n",
    "#         plot1 = widgets.IntSlider  (value=0   , min=0,       max=1,   step=1,    description='Plot data ',disabled=False),\n",
    "#         plot2 = widgets.IntSlider  (value=0   , min=0,       max=1,   step=1,    description='Plot $k_r$ ',disabled=False),\n",
    "         )"
   ]
  },
  {
   "cell_type": "markdown",
   "metadata": {},
   "source": [
    "# Quiz time"
   ]
  },
  {
   "cell_type": "markdown",
   "metadata": {},
   "source": [
    "### What is the value of the water content, when the suction pressure is equal to zero?"
   ]
  },
  {
   "cell_type": "code",
   "execution_count": 5,
   "metadata": {},
   "outputs": [
    {
     "data": {
      "application/vnd.jupyter.widget-view+json": {
       "model_id": "f5930531687f441cb9a14b61c994e238",
       "version_major": 2,
       "version_minor": 0
      },
      "text/plain": [
       "FloatText(value=0.0, description='Type your answer:', style=DescriptionStyle(description_width='initial'))"
      ]
     },
     "metadata": {},
     "output_type": "display_data"
    }
   ],
   "source": [
    "display(question)"
   ]
  },
  {
   "cell_type": "code",
   "execution_count": 6,
   "metadata": {},
   "outputs": [
    {
     "ename": "ModuleNotFoundError",
     "evalue": "No module named 'jupyterquiz'",
     "output_type": "error",
     "traceback": [
      "\u001b[1;31m---------------------------------------------------------------------------\u001b[0m",
      "\u001b[1;31mModuleNotFoundError\u001b[0m                       Traceback (most recent call last)",
      "Cell \u001b[1;32mIn[6], line 4\u001b[0m\n\u001b[0;32m      2\u001b[0m \u001b[38;5;28;01mimport\u001b[39;00m \u001b[38;5;21;01mos\u001b[39;00m\n\u001b[0;32m      3\u001b[0m sys\u001b[38;5;241m.\u001b[39mpath\u001b[38;5;241m.\u001b[39mappend(os\u001b[38;5;241m.\u001b[39mgetcwd()\u001b[38;5;241m.\u001b[39mreplace(\u001b[38;5;124m\"\u001b[39m\u001b[38;5;124mT03\u001b[39m\u001b[38;5;124m\"\u001b[39m, \u001b[38;5;124m\"\u001b[39m\u001b[38;5;124mjupyterquiz\u001b[39m\u001b[38;5;124m\"\u001b[39m))\n\u001b[1;32m----> 4\u001b[0m \u001b[38;5;28;01mfrom\u001b[39;00m \u001b[38;5;21;01mjupyterquiz\u001b[39;00m \u001b[38;5;28;01mimport\u001b[39;00m display_quiz\n\u001b[0;32m      6\u001b[0m display_quiz(\u001b[38;5;124m\"\u001b[39m\u001b[38;5;124m../questions/questions_T03.json\u001b[39m\u001b[38;5;124m\"\u001b[39m)\n",
      "\u001b[1;31mModuleNotFoundError\u001b[0m: No module named 'jupyterquiz'"
     ]
    }
   ],
   "source": [
    "import sys\n",
    "import os\n",
    "sys.path.append(os.getcwd().replace(\"T03\", \"jupyterquiz\"))\n",
    "from jupyterquiz import display_quiz\n",
    "\n",
    "display_quiz(\"../questions/questions_T03.json\")"
   ]
  },
  {
   "cell_type": "code",
   "execution_count": null,
   "metadata": {},
   "outputs": [],
   "source": []
  }
 ],
 "metadata": {
  "celltoolbar": "Tags",
  "kernelspec": {
   "display_name": "Python 3 (ipykernel)",
   "language": "python",
   "name": "python3"
  },
  "language_info": {
   "codemirror_mode": {
    "name": "ipython",
    "version": 3
   },
   "file_extension": ".py",
   "mimetype": "text/x-python",
   "name": "python",
   "nbconvert_exporter": "python",
   "pygments_lexer": "ipython3",
   "version": "3.11.7"
  }
 },
 "nbformat": 4,
 "nbformat_minor": 4
}
