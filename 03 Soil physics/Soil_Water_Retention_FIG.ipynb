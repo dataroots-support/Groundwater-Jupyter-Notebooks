{
 "cells": [
  {
   "cell_type": "markdown",
   "metadata": {},
   "source": [
    "# Soil water retention curve and unsaturated hydraulic conductivity\n",
    "\n",
    "## Soil water retention \n",
    "The pF or water retention curve describes the relationship between soil matric pressure (suction pressure) and soil water content (volumetric). The soil water retention equation is given by:\n",
    "\n",
    "$R_s = \\frac{\\theta - \\theta_r}{\\theta_s - \\theta_r} = [1+(\\alpha\\psi)^n]^{-m}$\n",
    "\n",
    "with\n",
    "- $R_s$ = Saturation ratio of a soil [‐]\n",
    "- $\\theta$ = Soil water content [cm³/cm³]\n",
    "- $\\psi$ = Suction pressure\n",
    "- $\\theta_r$ = Residual water content [cm³/cm³]\n",
    "- $\\theta_s$ = Saturated water content [cm³/cm³]\n",
    "- $n$ = Measure of pore size distribution / shape parameter [-]\n",
    "- $\\alpha$ = Point of air entry / shape parameter [1/cm]\n",
    "\n",
    "## How to use the notebook\n",
    "The plot displays the retention function in red color. Additionally, the relative permeability can be plotted in an extra diagramm (use checkbox)."
   ]
  },
  {
   "cell_type": "code",
   "execution_count": 6,
   "metadata": {},
   "outputs": [
    {
     "data": {
      "application/vnd.jupyter.widget-view+json": {
       "model_id": "1fb289eda5774de48fbfc7a94a0bf722",
       "version_major": 2,
       "version_minor": 0
      },
      "text/plain": [
       "interactive(children=(FloatSlider(value=0.05, continuous_update=False, description='$theta_r$ [-]:', max=0.4, …"
      ]
     },
     "metadata": {},
     "output_type": "display_data"
    },
    {
     "data": {
      "text/plain": [
       "<function __main__.RTC_VG_MUA(tr, ts, alpha, n, plot4)>"
      ]
     },
     "execution_count": 6,
     "metadata": {},
     "output_type": "execute_result"
    }
   ],
   "source": [
    "# Initialize the needed Python packages\n",
    "import math\n",
    "import numpy as np\n",
    "from ipywidgets import *\n",
    "import matplotlib.pyplot as plt\n",
    "\n",
    "#definition of the function (conductivity)\n",
    "\n",
    "def RTC_VG_MUA(tr, ts, alpha, n, plot4):\n",
    "    x_max = 300\n",
    "    \n",
    "    # intermediate results \n",
    "    m   = 1-1/n                                         # van Genuchten parameter\n",
    "    PWP = tr + (ts - tr)/(1+(alpha*10**4.2)**n)**m      # permanent wilting point\n",
    "    FC  = tr + (ts - tr)/(1+(alpha*10**1.8)**n)**m      # field capacity\n",
    "    eFC = FC - PWP                                      # effective field capacity\n",
    "\n",
    "    # model output\n",
    "    t_plot  = []                                        # t  = theta = moisture content\n",
    "    p_plot  = []                                        # p  = phi   = suction head\n",
    "    kr_plot = []                                        # kr = rel. permeability\n",
    "    \n",
    "    for x in range (0, x_max):\n",
    "        t = tr + (ts-tr)*x/(x_max-1)                    # [-] moisture content; please note that range counts up to x_max-1\n",
    "        te = (t-tr)/(ts-tr)                             # [-] effective saturation      \n",
    "        if x == 0:\n",
    "            p     = 1E18                                # [cm] suction head\n",
    "            kr    = 0                                   # [-] relative hydraulic conductivity\n",
    "        else: \n",
    "            p     = ((te**(-1/m)-1)**(1/n))/alpha                      \n",
    "            kr    = np.sqrt(te)*(1-(1-te**(1/m))**m)**2\n",
    "        t_plot.append(t)\n",
    "        p_plot.append(p)\n",
    "        kr_plot.append(kr)\n",
    "        \n",
    "    \n",
    "    fig = plt.figure(figsize=(8,5))\n",
    "    ax  = fig.add_subplot()\n",
    "    ax.plot(t_plot, p_plot, 'r', markersize=3)\n",
    "    ax.vlines(x= tr, ymin=1e-1, ymax=1e+5, linestyle='--')      \n",
    "    ax.set(xlabel='water content [-]', ylabel ='suction head [cm]', xlim = [0, 0.7], ylim = [1e-1,1e+5], yscale = 'log' )\n",
    "    ax.grid(which=\"both\", color='grey',linewidth=0.5)\n",
    "    plt.show()\n",
    "\n",
    "    if plot4 == 1:\n",
    "        fig = plt.figure(figsize=(6,4))\n",
    "        ax  = fig.add_subplot()\n",
    "        ax.plot(t_plot, kr_plot, 'b', markersize = 3)\n",
    "        ax.set(xlabel='water content [-]', ylabel='rel hydraulic conductivity [cm/d]', xlim = [0, 0.7], ylim = [0,1] )\n",
    "        ax.grid(which=\"major\", color='grey',linewidth=0.5)\n",
    "        plt.show()\n",
    "    \n",
    "    print ('Van Genuchten             m:', '{:.5f}'.format(m) )\n",
    "    print ('Permanent Wilting Point PWP:', '{:.2f}'.format(PWP) )\n",
    "    print ('Field Capacity           FC:', '{:.2f}'.format(FC) )\n",
    "    print ('Eff. Field Capacity     eFC:', '{:.2f}'.format(eFC) )\n",
    "    \n",
    "interact(RTC_VG_MUA,\n",
    "         tr    = widgets.FloatSlider(value=0.05, min=0.01,    max=0.4, step=0.01, description='$theta_r$ [-]:', disabled=False, continuous_update=False),\n",
    "         ts    = widgets.FloatSlider(value=0.5 , min=0.2,     max=0.7, step=0.01, description='$theta_s$ [-]:', disabled=False, continuous_update=False),\n",
    "         alpha = widgets.FloatSlider(value=0.1 , min=0.01,    max=1,   step=0.02, description='$alpha$ [1/cm]:', disabled=False, continuous_update=False),\n",
    "         n     = widgets.FloatSlider(value=1.2 , min=1.01,    max=3,   step=0.02, description= 'n  [-]:', disabled=False, continuous_update=False),       \n",
    "         plot4 = widgets.Checkbox(value=False, description='Plot $k_r$ ',disabled=False),\n",
    "#         plot1 = widgets.IntSlider  (value=0   , min=0,       max=1,   step=1,    description='Plot data ',disabled=False),\n",
    "#         plot2 = widgets.IntSlider  (value=0   , min=0,       max=1,   step=1,    description='Plot $k_r$ ',disabled=False),\n",
    "         )"
   ]
  },
  {
   "cell_type": "code",
   "execution_count": null,
   "metadata": {},
   "outputs": [],
   "source": []
  }
 ],
 "metadata": {
  "kernelspec": {
   "display_name": "Python 3 (ipykernel)",
   "language": "python",
   "name": "python3"
  },
  "language_info": {
   "codemirror_mode": {
    "name": "ipython",
    "version": 3
   },
   "file_extension": ".py",
   "mimetype": "text/x-python",
   "name": "python",
   "nbconvert_exporter": "python",
   "pygments_lexer": "ipython3",
   "version": "3.11.7"
  }
 },
 "nbformat": 4,
 "nbformat_minor": 4
}
